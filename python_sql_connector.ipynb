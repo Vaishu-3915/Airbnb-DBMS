{
 "cells": [
  {
   "cell_type": "code",
   "execution_count": 5,
   "id": "1f02dc81-2e14-4890-bf4f-591f54975659",
   "metadata": {
    "tags": []
   },
   "outputs": [],
   "source": [
    "import pandas as pd\n",
    "import matplotlib.pyplot as plt\n",
    "import seaborn as sns\n",
    "import numpy as np"
   ]
  },
  {
   "cell_type": "code",
   "execution_count": 6,
   "id": "4e9128dd-8213-4a2b-9234-659b5f2e0836",
   "metadata": {
    "tags": []
   },
   "outputs": [
    {
     "name": "stdout",
     "output_type": "stream",
     "text": [
      "Connected to MySQL Server\n"
     ]
    }
   ],
   "source": [
    "import pymysql\n",
    "\n",
    "connection = None;\n",
    "cursor = None;\n",
    "try:\n",
    "    # Establish a connection to the MySQL server. airbnbBackUp is same as airbnb database.\n",
    "    connection = pymysql.connect(\n",
    "        database='airbnbBackUp',\n",
    "        user='root',\n",
    "        password='Vaishusudeep#2022',\n",
    "        host='localhost', \n",
    "        port=3306  \n",
    "    )\n",
    "\n",
    "    # Check if the connection is successful\n",
    "    if connection.open:\n",
    "        print(\"Connected to MySQL Server\")\n",
    "\n",
    "except pymysql.Error as e:\n",
    "    print(\"Error while connecting to MySQL\", e)"
   ]
  },
  {
   "cell_type": "code",
   "execution_count": 7,
   "id": "6e8e16f3-6a6e-4256-b3d7-1c31c8b11f61",
   "metadata": {
    "tags": []
   },
   "outputs": [],
   "source": [
    "#Creating cursor object to check connection is established succesfully\n",
    "cursor = connection.cursor()"
   ]
  },
  {
   "cell_type": "code",
   "execution_count": 8,
   "id": "4df22d5c-2f68-486e-ad35-0f2a52b5cb2f",
   "metadata": {
    "tags": []
   },
   "outputs": [
    {
     "data": {
      "text/plain": [
       "54"
      ]
     },
     "execution_count": 8,
     "metadata": {},
     "output_type": "execute_result"
    }
   ],
   "source": [
    "cursor.execute('select * from amenities;')"
   ]
  },
  {
   "cell_type": "code",
   "execution_count": 9,
   "id": "63d82c83-0735-4e4a-9e83-0d5b2ab25fa4",
   "metadata": {
    "tags": []
   },
   "outputs": [
    {
     "name": "stdout",
     "output_type": "stream",
     "text": [
      "(0.0, 'Gym')\n",
      "(1.0, 'Hair Conditioner')\n",
      "(2.0, 'TV')\n",
      "(3.0, 'Cable TV')\n",
      "(4.0, 'Hot Tub')\n",
      "(5.0, 'Parking')\n",
      "(6.0, 'Grill')\n",
      "(7.0, 'Shampoo')\n",
      "(8.0, 'Essentials')\n",
      "(9.0, 'Sound system')\n",
      "(10.0, 'Internet')\n",
      "(11.0, 'Self Check-In')\n",
      "(12.0, 'Single Bed')\n",
      "(13.0, 'Dishwasher')\n",
      "(14.0, 'Alexa')\n",
      "(15.0, 'Oven')\n",
      "(16.0, 'Heating')\n",
      "(17.0, 'Double Bed')\n",
      "(18.0, 'Family/Kid Friendly')\n",
      "(19.0, 'Laptop-Friendly Workspace')\n",
      "(20.0, 'High Chair')\n",
      "(21.0, 'Wardrobe')\n",
      "(22.0, 'Backyard')\n",
      "(23.0, 'Smoking Allowed')\n",
      "(24.0, 'Kitchen')\n",
      "(25.0, 'Queen Bed')\n",
      "(26.0, 'Hangers')\n",
      "(27.0, 'Wi-Fi')\n",
      "(28.0, 'Air Conditioning')\n",
      "(29.0, 'Beach access')\n",
      "(30.0, 'Smoke Detector')\n",
      "(31.0, 'Pets Allowed')\n",
      "(32.0, 'Hot Water')\n",
      "(33.0, 'Refrigirator')\n",
      "(34.0, 'Dryer')\n",
      "(35.0, 'OTT')\n",
      "(36.0, 'Washer')\n",
      "(37.0, 'Hair Dryer')\n",
      "(38.0, 'Carbon Monoxide Detector')\n",
      "(39.0, 'Iron')\n",
      "(40.0, 'Elevator')\n",
      "(41.0, 'Lock on Bedroom Door')\n",
      "(42.0, 'EV Charging Port')\n",
      "(43.0, 'Sofa Bed')\n",
      "(44.0, 'King Bed')\n",
      "(45.0, 'Scenic view ')\n",
      "(46.0, 'Free Parking')\n",
      "(47.0, 'Patio or Balcony')\n",
      "(48.0, 'stove')\n",
      "(49.0, 'Swimming pool')\n",
      "(50.0, 'Private Bathroom')\n",
      "(51.0, 'Crib')\n",
      "(52.0, 'Soap')\n",
      "(53.0, 'Game Console')\n"
     ]
    }
   ],
   "source": [
    "# Fetch and print the results\n",
    "results = cursor.fetchall()\n",
    "for row in results:\n",
    "    print(row)"
   ]
  },
  {
   "cell_type": "code",
   "execution_count": 10,
   "id": "6dcdb06a-f3db-4fea-aa66-b16687205610",
   "metadata": {
    "tags": []
   },
   "outputs": [
    {
     "name": "stderr",
     "output_type": "stream",
     "text": [
      "/var/folders/8p/y_wdqdj16x3fd01t0y6lrkq80000gn/T/ipykernel_2255/389954560.py:3: UserWarning: pandas only supports SQLAlchemy connectable (engine/connection) or database string URI or sqlite3 DBAPI2 connection. Other DBAPI2 objects are not tested. Please consider using SQLAlchemy.\n",
      "  df_amenities = pd.read_sql(query, connection)\n"
     ]
    }
   ],
   "source": [
    "# Query \"amenities\" table to retrieve data\n",
    "query = \"SELECT * FROM amenities;\"\n",
    "df_amenities = pd.read_sql(query, connection)"
   ]
  },
  {
   "cell_type": "code",
   "execution_count": 11,
   "id": "a2007f04-377f-4a02-a5fa-a48e4494c09e",
   "metadata": {
    "tags": []
   },
   "outputs": [
    {
     "data": {
      "text/html": [
       "<div>\n",
       "<style scoped>\n",
       "    .dataframe tbody tr th:only-of-type {\n",
       "        vertical-align: middle;\n",
       "    }\n",
       "\n",
       "    .dataframe tbody tr th {\n",
       "        vertical-align: top;\n",
       "    }\n",
       "\n",
       "    .dataframe thead th {\n",
       "        text-align: right;\n",
       "    }\n",
       "</style>\n",
       "<table border=\"1\" class=\"dataframe\">\n",
       "  <thead>\n",
       "    <tr style=\"text-align: right;\">\n",
       "      <th></th>\n",
       "      <th>amenity_id</th>\n",
       "      <th>name</th>\n",
       "    </tr>\n",
       "  </thead>\n",
       "  <tbody>\n",
       "    <tr>\n",
       "      <th>0</th>\n",
       "      <td>0.0</td>\n",
       "      <td>Gym</td>\n",
       "    </tr>\n",
       "    <tr>\n",
       "      <th>1</th>\n",
       "      <td>1.0</td>\n",
       "      <td>Hair Conditioner</td>\n",
       "    </tr>\n",
       "    <tr>\n",
       "      <th>2</th>\n",
       "      <td>2.0</td>\n",
       "      <td>TV</td>\n",
       "    </tr>\n",
       "    <tr>\n",
       "      <th>3</th>\n",
       "      <td>3.0</td>\n",
       "      <td>Cable TV</td>\n",
       "    </tr>\n",
       "    <tr>\n",
       "      <th>4</th>\n",
       "      <td>4.0</td>\n",
       "      <td>Hot Tub</td>\n",
       "    </tr>\n",
       "  </tbody>\n",
       "</table>\n",
       "</div>"
      ],
      "text/plain": [
       "   amenity_id              name\n",
       "0         0.0               Gym\n",
       "1         1.0  Hair Conditioner\n",
       "2         2.0                TV\n",
       "3         3.0          Cable TV\n",
       "4         4.0           Hot Tub"
      ]
     },
     "execution_count": 11,
     "metadata": {},
     "output_type": "execute_result"
    }
   ],
   "source": [
    "df_amenities.head()"
   ]
  },
  {
   "cell_type": "code",
   "execution_count": 12,
   "id": "95697d33-7e8e-4c14-95ea-b8415f607a8a",
   "metadata": {
    "tags": []
   },
   "outputs": [
    {
     "name": "stderr",
     "output_type": "stream",
     "text": [
      "/var/folders/8p/y_wdqdj16x3fd01t0y6lrkq80000gn/T/ipykernel_2255/2168635462.py:3: UserWarning: pandas only supports SQLAlchemy connectable (engine/connection) or database string URI or sqlite3 DBAPI2 connection. Other DBAPI2 objects are not tested. Please consider using SQLAlchemy.\n",
      "  df_bookings = pd.read_sql(query, connection)\n"
     ]
    }
   ],
   "source": [
    "# Query \"bookings\" table to retrieve data\n",
    "query = \"SELECT * FROM bookings;\"\n",
    "df_bookings = pd.read_sql(query, connection)"
   ]
  },
  {
   "cell_type": "code",
   "execution_count": 13,
   "id": "6beaf6c2-190d-4f92-af7c-a96dd04cd0f8",
   "metadata": {
    "tags": []
   },
   "outputs": [
    {
     "data": {
      "text/html": [
       "<div>\n",
       "<style scoped>\n",
       "    .dataframe tbody tr th:only-of-type {\n",
       "        vertical-align: middle;\n",
       "    }\n",
       "\n",
       "    .dataframe tbody tr th {\n",
       "        vertical-align: top;\n",
       "    }\n",
       "\n",
       "    .dataframe thead th {\n",
       "        text-align: right;\n",
       "    }\n",
       "</style>\n",
       "<table border=\"1\" class=\"dataframe\">\n",
       "  <thead>\n",
       "    <tr style=\"text-align: right;\">\n",
       "      <th></th>\n",
       "      <th>listing_id</th>\n",
       "      <th>booking_id</th>\n",
       "      <th>customer_id</th>\n",
       "      <th>checkout_date</th>\n",
       "      <th>checkin_date</th>\n",
       "    </tr>\n",
       "  </thead>\n",
       "  <tbody>\n",
       "    <tr>\n",
       "      <th>0</th>\n",
       "      <td>2427.0</td>\n",
       "      <td>1000.0</td>\n",
       "      <td>114359712.0</td>\n",
       "      <td>2021-04-11</td>\n",
       "      <td>2021-04-10</td>\n",
       "    </tr>\n",
       "    <tr>\n",
       "      <th>1</th>\n",
       "      <td>3952.0</td>\n",
       "      <td>1001.0</td>\n",
       "      <td>139050107.0</td>\n",
       "      <td>2023-07-30</td>\n",
       "      <td>2023-07-29</td>\n",
       "    </tr>\n",
       "    <tr>\n",
       "      <th>2</th>\n",
       "      <td>1319.0</td>\n",
       "      <td>1002.0</td>\n",
       "      <td>875684.0</td>\n",
       "      <td>2019-02-09</td>\n",
       "      <td>2019-02-08</td>\n",
       "    </tr>\n",
       "    <tr>\n",
       "      <th>3</th>\n",
       "      <td>2931.0</td>\n",
       "      <td>1003.0</td>\n",
       "      <td>163042132.0</td>\n",
       "      <td>2022-07-14</td>\n",
       "      <td>2022-07-13</td>\n",
       "    </tr>\n",
       "    <tr>\n",
       "      <th>4</th>\n",
       "      <td>5583.0</td>\n",
       "      <td>1004.0</td>\n",
       "      <td>487748858.0</td>\n",
       "      <td>2023-05-29</td>\n",
       "      <td>2023-05-28</td>\n",
       "    </tr>\n",
       "  </tbody>\n",
       "</table>\n",
       "</div>"
      ],
      "text/plain": [
       "   listing_id  booking_id  customer_id checkout_date checkin_date\n",
       "0      2427.0      1000.0  114359712.0    2021-04-11   2021-04-10\n",
       "1      3952.0      1001.0  139050107.0    2023-07-30   2023-07-29\n",
       "2      1319.0      1002.0     875684.0    2019-02-09   2019-02-08\n",
       "3      2931.0      1003.0  163042132.0    2022-07-14   2022-07-13\n",
       "4      5583.0      1004.0  487748858.0    2023-05-29   2023-05-28"
      ]
     },
     "execution_count": 13,
     "metadata": {},
     "output_type": "execute_result"
    }
   ],
   "source": [
    "df_bookings.head()"
   ]
  },
  {
   "cell_type": "code",
   "execution_count": 14,
   "id": "d92ef52f-fad8-441f-a409-06ce30f1504b",
   "metadata": {
    "tags": []
   },
   "outputs": [
    {
     "name": "stderr",
     "output_type": "stream",
     "text": [
      "/var/folders/8p/y_wdqdj16x3fd01t0y6lrkq80000gn/T/ipykernel_2255/3274711801.py:3: UserWarning: pandas only supports SQLAlchemy connectable (engine/connection) or database string URI or sqlite3 DBAPI2 connection. Other DBAPI2 objects are not tested. Please consider using SQLAlchemy.\n",
      "  df_guests = pd.read_sql(query, connection)\n"
     ]
    }
   ],
   "source": [
    "# Query \"guests\" table to retrieve data\n",
    "query = \"SELECT * FROM guests;\"\n",
    "df_guests = pd.read_sql(query, connection)"
   ]
  },
  {
   "cell_type": "code",
   "execution_count": 15,
   "id": "92df3cd9-cb73-4e64-b9bb-5c8aa88f2de3",
   "metadata": {
    "tags": []
   },
   "outputs": [
    {
     "data": {
      "text/html": [
       "<div>\n",
       "<style scoped>\n",
       "    .dataframe tbody tr th:only-of-type {\n",
       "        vertical-align: middle;\n",
       "    }\n",
       "\n",
       "    .dataframe tbody tr th {\n",
       "        vertical-align: top;\n",
       "    }\n",
       "\n",
       "    .dataframe thead th {\n",
       "        text-align: right;\n",
       "    }\n",
       "</style>\n",
       "<table border=\"1\" class=\"dataframe\">\n",
       "  <thead>\n",
       "    <tr style=\"text-align: right;\">\n",
       "      <th></th>\n",
       "      <th>customer_id</th>\n",
       "      <th>customer_name</th>\n",
       "      <th>gender</th>\n",
       "      <th>age</th>\n",
       "      <th>rating</th>\n",
       "    </tr>\n",
       "  </thead>\n",
       "  <tbody>\n",
       "    <tr>\n",
       "      <th>0</th>\n",
       "      <td>3.0</td>\n",
       "      <td>Brian</td>\n",
       "      <td>male</td>\n",
       "      <td>63</td>\n",
       "      <td>4.50</td>\n",
       "    </tr>\n",
       "    <tr>\n",
       "      <th>1</th>\n",
       "      <td>629.0</td>\n",
       "      <td>Merida</td>\n",
       "      <td>other</td>\n",
       "      <td>51</td>\n",
       "      <td>3.69</td>\n",
       "    </tr>\n",
       "    <tr>\n",
       "      <th>2</th>\n",
       "      <td>706.0</td>\n",
       "      <td>Eamon</td>\n",
       "      <td>male</td>\n",
       "      <td>42</td>\n",
       "      <td>4.47</td>\n",
       "    </tr>\n",
       "    <tr>\n",
       "      <th>3</th>\n",
       "      <td>2798.0</td>\n",
       "      <td>Ayeh</td>\n",
       "      <td>other</td>\n",
       "      <td>49</td>\n",
       "      <td>4.26</td>\n",
       "    </tr>\n",
       "    <tr>\n",
       "      <th>4</th>\n",
       "      <td>3175.0</td>\n",
       "      <td>Jen</td>\n",
       "      <td>female</td>\n",
       "      <td>26</td>\n",
       "      <td>3.86</td>\n",
       "    </tr>\n",
       "  </tbody>\n",
       "</table>\n",
       "</div>"
      ],
      "text/plain": [
       "   customer_id customer_name  gender  age  rating\n",
       "0          3.0         Brian    male   63    4.50\n",
       "1        629.0        Merida   other   51    3.69\n",
       "2        706.0         Eamon    male   42    4.47\n",
       "3       2798.0          Ayeh   other   49    4.26\n",
       "4       3175.0           Jen  female   26    3.86"
      ]
     },
     "execution_count": 15,
     "metadata": {},
     "output_type": "execute_result"
    }
   ],
   "source": [
    "df_guests.head()"
   ]
  },
  {
   "cell_type": "code",
   "execution_count": 16,
   "id": "9a5e92d7-b78a-42cf-99ec-cebf64ab03db",
   "metadata": {
    "tags": []
   },
   "outputs": [
    {
     "name": "stderr",
     "output_type": "stream",
     "text": [
      "/var/folders/8p/y_wdqdj16x3fd01t0y6lrkq80000gn/T/ipykernel_2255/2038178653.py:3: UserWarning: pandas only supports SQLAlchemy connectable (engine/connection) or database string URI or sqlite3 DBAPI2 connection. Other DBAPI2 objects are not tested. Please consider using SQLAlchemy.\n",
      "  df_hosts = pd.read_sql(query, connection)\n"
     ]
    }
   ],
   "source": [
    "# Query \"hosts\" table to retrieve data\n",
    "query = \"SELECT * FROM hosts;\"\n",
    "df_hosts = pd.read_sql(query, connection)"
   ]
  },
  {
   "cell_type": "code",
   "execution_count": 17,
   "id": "78bca421-e8fd-410d-b58d-0870c7b23305",
   "metadata": {
    "tags": []
   },
   "outputs": [
    {
     "data": {
      "text/html": [
       "<div>\n",
       "<style scoped>\n",
       "    .dataframe tbody tr th:only-of-type {\n",
       "        vertical-align: middle;\n",
       "    }\n",
       "\n",
       "    .dataframe tbody tr th {\n",
       "        vertical-align: top;\n",
       "    }\n",
       "\n",
       "    .dataframe thead th {\n",
       "        text-align: right;\n",
       "    }\n",
       "</style>\n",
       "<table border=\"1\" class=\"dataframe\">\n",
       "  <thead>\n",
       "    <tr style=\"text-align: right;\">\n",
       "      <th></th>\n",
       "      <th>host_id</th>\n",
       "      <th>host_name</th>\n",
       "      <th>host_since</th>\n",
       "      <th>host_location</th>\n",
       "      <th>host_response_time</th>\n",
       "      <th>host_response_rate</th>\n",
       "      <th>host_acceptance_rate</th>\n",
       "      <th>host_is_superhost</th>\n",
       "      <th>host_neighbourhood</th>\n",
       "      <th>host_listing_count</th>\n",
       "      <th>host_identity_verified</th>\n",
       "      <th>calculated_listings_count</th>\n",
       "      <th>listings_count_entire_homes</th>\n",
       "      <th>listings_count_private_rooms</th>\n",
       "      <th>calculated_host_listings_count_shared_rooms</th>\n",
       "    </tr>\n",
       "  </thead>\n",
       "  <tbody>\n",
       "    <tr>\n",
       "      <th>0</th>\n",
       "      <td>4804.0</td>\n",
       "      <td>Frank</td>\n",
       "      <td>2008-12-03</td>\n",
       "      <td>Massachusetts, United States</td>\n",
       "      <td>within a day</td>\n",
       "      <td>100</td>\n",
       "      <td>21</td>\n",
       "      <td>t</td>\n",
       "      <td>East Boston</td>\n",
       "      <td>4</td>\n",
       "      <td>f</td>\n",
       "      <td>1</td>\n",
       "      <td>1</td>\n",
       "      <td>0</td>\n",
       "      <td>0</td>\n",
       "    </tr>\n",
       "    <tr>\n",
       "      <th>1</th>\n",
       "      <td>8229.0</td>\n",
       "      <td>Terry</td>\n",
       "      <td>2009-02-19</td>\n",
       "      <td>Boston, MA</td>\n",
       "      <td>within an hour</td>\n",
       "      <td>100</td>\n",
       "      <td>100</td>\n",
       "      <td>t</td>\n",
       "      <td>Roxbury</td>\n",
       "      <td>11</td>\n",
       "      <td>t</td>\n",
       "      <td>10</td>\n",
       "      <td>10</td>\n",
       "      <td>0</td>\n",
       "      <td>0</td>\n",
       "    </tr>\n",
       "    <tr>\n",
       "      <th>2</th>\n",
       "      <td>26988.0</td>\n",
       "      <td>Anne</td>\n",
       "      <td>2009-07-22</td>\n",
       "      <td>Boston, MA</td>\n",
       "      <td>within a day</td>\n",
       "      <td>90</td>\n",
       "      <td>50</td>\n",
       "      <td>t</td>\n",
       "      <td>Beacon Hill</td>\n",
       "      <td>13</td>\n",
       "      <td>t</td>\n",
       "      <td>8</td>\n",
       "      <td>8</td>\n",
       "      <td>0</td>\n",
       "      <td>0</td>\n",
       "    </tr>\n",
       "    <tr>\n",
       "      <th>3</th>\n",
       "      <td>38997.0</td>\n",
       "      <td>Michelle</td>\n",
       "      <td>2009-09-16</td>\n",
       "      <td>NULL</td>\n",
       "      <td>within a few hours</td>\n",
       "      <td>98</td>\n",
       "      <td>39</td>\n",
       "      <td>f</td>\n",
       "      <td>Back Bay</td>\n",
       "      <td>20</td>\n",
       "      <td>t</td>\n",
       "      <td>11</td>\n",
       "      <td>11</td>\n",
       "      <td>0</td>\n",
       "      <td>0</td>\n",
       "    </tr>\n",
       "    <tr>\n",
       "      <th>4</th>\n",
       "      <td>49383.0</td>\n",
       "      <td>Tom</td>\n",
       "      <td>2009-10-29</td>\n",
       "      <td>Austin, TX</td>\n",
       "      <td>within a few hours</td>\n",
       "      <td>100</td>\n",
       "      <td>56</td>\n",
       "      <td>t</td>\n",
       "      <td>Sun Bay South</td>\n",
       "      <td>2</td>\n",
       "      <td>t</td>\n",
       "      <td>1</td>\n",
       "      <td>1</td>\n",
       "      <td>0</td>\n",
       "      <td>0</td>\n",
       "    </tr>\n",
       "  </tbody>\n",
       "</table>\n",
       "</div>"
      ],
      "text/plain": [
       "   host_id host_name host_since                 host_location  \\\n",
       "0   4804.0     Frank 2008-12-03  Massachusetts, United States   \n",
       "1   8229.0     Terry 2009-02-19                    Boston, MA   \n",
       "2  26988.0      Anne 2009-07-22                    Boston, MA   \n",
       "3  38997.0  Michelle 2009-09-16                          NULL   \n",
       "4  49383.0       Tom 2009-10-29                    Austin, TX   \n",
       "\n",
       "   host_response_time  host_response_rate  host_acceptance_rate  \\\n",
       "0        within a day                 100                    21   \n",
       "1      within an hour                 100                   100   \n",
       "2        within a day                  90                    50   \n",
       "3  within a few hours                  98                    39   \n",
       "4  within a few hours                 100                    56   \n",
       "\n",
       "  host_is_superhost host_neighbourhood  host_listing_count  \\\n",
       "0                 t        East Boston                   4   \n",
       "1                 t            Roxbury                  11   \n",
       "2                 t        Beacon Hill                  13   \n",
       "3                 f           Back Bay                  20   \n",
       "4                 t      Sun Bay South                   2   \n",
       "\n",
       "  host_identity_verified  calculated_listings_count  \\\n",
       "0                      f                          1   \n",
       "1                      t                         10   \n",
       "2                      t                          8   \n",
       "3                      t                         11   \n",
       "4                      t                          1   \n",
       "\n",
       "   listings_count_entire_homes  listings_count_private_rooms  \\\n",
       "0                            1                             0   \n",
       "1                           10                             0   \n",
       "2                            8                             0   \n",
       "3                           11                             0   \n",
       "4                            1                             0   \n",
       "\n",
       "   calculated_host_listings_count_shared_rooms  \n",
       "0                                            0  \n",
       "1                                            0  \n",
       "2                                            0  \n",
       "3                                            0  \n",
       "4                                            0  "
      ]
     },
     "execution_count": 17,
     "metadata": {},
     "output_type": "execute_result"
    }
   ],
   "source": [
    "df_hosts.head()"
   ]
  },
  {
   "cell_type": "code",
   "execution_count": 18,
   "id": "3780f846-32b8-4485-95a5-e53fcf735b96",
   "metadata": {
    "tags": []
   },
   "outputs": [
    {
     "name": "stderr",
     "output_type": "stream",
     "text": [
      "/var/folders/8p/y_wdqdj16x3fd01t0y6lrkq80000gn/T/ipykernel_2255/340011536.py:3: UserWarning: pandas only supports SQLAlchemy connectable (engine/connection) or database string URI or sqlite3 DBAPI2 connection. Other DBAPI2 objects are not tested. Please consider using SQLAlchemy.\n",
      "  df_listings = pd.read_sql(query, connection)\n"
     ]
    }
   ],
   "source": [
    "# Query \"listings\" table to retrieve data\n",
    "query = \"SELECT * FROM listings;\"\n",
    "df_listings = pd.read_sql(query, connection)"
   ]
  },
  {
   "cell_type": "code",
   "execution_count": 19,
   "id": "34e89aa4-be7f-49b8-87ea-f6c4afc249d2",
   "metadata": {
    "tags": []
   },
   "outputs": [
    {
     "data": {
      "text/html": [
       "<div>\n",
       "<style scoped>\n",
       "    .dataframe tbody tr th:only-of-type {\n",
       "        vertical-align: middle;\n",
       "    }\n",
       "\n",
       "    .dataframe tbody tr th {\n",
       "        vertical-align: top;\n",
       "    }\n",
       "\n",
       "    .dataframe thead th {\n",
       "        text-align: right;\n",
       "    }\n",
       "</style>\n",
       "<table border=\"1\" class=\"dataframe\">\n",
       "  <thead>\n",
       "    <tr style=\"text-align: right;\">\n",
       "      <th></th>\n",
       "      <th>id</th>\n",
       "      <th>host_id</th>\n",
       "      <th>latitude</th>\n",
       "      <th>longitude</th>\n",
       "      <th>property_type</th>\n",
       "      <th>roomtype</th>\n",
       "      <th>accomodates</th>\n",
       "      <th>bathrooms</th>\n",
       "      <th>bedrooms</th>\n",
       "      <th>beds</th>\n",
       "      <th>price</th>\n",
       "      <th>minimum_nights</th>\n",
       "      <th>maximum_nights</th>\n",
       "      <th>license</th>\n",
       "      <th>instant_bookable</th>\n",
       "      <th>bathroom_type</th>\n",
       "      <th>review_score_rating</th>\n",
       "      <th>reviews_per_month</th>\n",
       "      <th>neighbourhood_id</th>\n",
       "    </tr>\n",
       "  </thead>\n",
       "  <tbody>\n",
       "    <tr>\n",
       "      <th>0</th>\n",
       "      <td>1005.0</td>\n",
       "      <td>28929296.0</td>\n",
       "      <td>42.3438</td>\n",
       "      <td>-71.0637</td>\n",
       "      <td>Entire rental unit</td>\n",
       "      <td>Entire home/apt</td>\n",
       "      <td>5</td>\n",
       "      <td>2.0</td>\n",
       "      <td>2</td>\n",
       "      <td>2</td>\n",
       "      <td>392.0</td>\n",
       "      <td>1</td>\n",
       "      <td>365</td>\n",
       "      <td>Approved</td>\n",
       "      <td>f</td>\n",
       "      <td>private</td>\n",
       "      <td>5.00</td>\n",
       "      <td>4.88</td>\n",
       "      <td>9.0</td>\n",
       "    </tr>\n",
       "    <tr>\n",
       "      <th>1</th>\n",
       "      <td>1006.0</td>\n",
       "      <td>16186589.0</td>\n",
       "      <td>42.2892</td>\n",
       "      <td>-71.0634</td>\n",
       "      <td>Private room in rental unit</td>\n",
       "      <td>Private room</td>\n",
       "      <td>1</td>\n",
       "      <td>1.0</td>\n",
       "      <td>0</td>\n",
       "      <td>1</td>\n",
       "      <td>50.0</td>\n",
       "      <td>30</td>\n",
       "      <td>1124</td>\n",
       "      <td>unlicensed</td>\n",
       "      <td>f</td>\n",
       "      <td>shared</td>\n",
       "      <td>4.64</td>\n",
       "      <td>0.19</td>\n",
       "      <td>12.0</td>\n",
       "    </tr>\n",
       "    <tr>\n",
       "      <th>2</th>\n",
       "      <td>1008.0</td>\n",
       "      <td>423270067.0</td>\n",
       "      <td>42.3449</td>\n",
       "      <td>-71.0833</td>\n",
       "      <td>Entire rental unit</td>\n",
       "      <td>Entire home/apt</td>\n",
       "      <td>8</td>\n",
       "      <td>2.0</td>\n",
       "      <td>2</td>\n",
       "      <td>4</td>\n",
       "      <td>501.0</td>\n",
       "      <td>1</td>\n",
       "      <td>365</td>\n",
       "      <td>Exempt: This listing is a unit used for furnis...</td>\n",
       "      <td>t</td>\n",
       "      <td>private</td>\n",
       "      <td>4.50</td>\n",
       "      <td>1.28</td>\n",
       "      <td>3.0</td>\n",
       "    </tr>\n",
       "    <tr>\n",
       "      <th>3</th>\n",
       "      <td>1009.0</td>\n",
       "      <td>5408229.0</td>\n",
       "      <td>42.3377</td>\n",
       "      <td>-71.0743</td>\n",
       "      <td>Entire rental unit</td>\n",
       "      <td>Entire home/apt</td>\n",
       "      <td>4</td>\n",
       "      <td>1.0</td>\n",
       "      <td>2</td>\n",
       "      <td>2</td>\n",
       "      <td>150.0</td>\n",
       "      <td>29</td>\n",
       "      <td>180</td>\n",
       "      <td>unlicensed</td>\n",
       "      <td>f</td>\n",
       "      <td>private</td>\n",
       "      <td>4.83</td>\n",
       "      <td>3.24</td>\n",
       "      <td>9.0</td>\n",
       "    </tr>\n",
       "    <tr>\n",
       "      <th>4</th>\n",
       "      <td>1011.0</td>\n",
       "      <td>502371178.0</td>\n",
       "      <td>42.3501</td>\n",
       "      <td>-71.1332</td>\n",
       "      <td>Private room in home</td>\n",
       "      <td>Private room</td>\n",
       "      <td>2</td>\n",
       "      <td>2.0</td>\n",
       "      <td>0</td>\n",
       "      <td>1</td>\n",
       "      <td>135.0</td>\n",
       "      <td>1</td>\n",
       "      <td>365</td>\n",
       "      <td>Exempt: This listing is a unit that has contra...</td>\n",
       "      <td>t</td>\n",
       "      <td>shared</td>\n",
       "      <td>0.00</td>\n",
       "      <td>0.00</td>\n",
       "      <td>24.0</td>\n",
       "    </tr>\n",
       "  </tbody>\n",
       "</table>\n",
       "</div>"
      ],
      "text/plain": [
       "       id      host_id  latitude  longitude                property_type  \\\n",
       "0  1005.0   28929296.0   42.3438   -71.0637           Entire rental unit   \n",
       "1  1006.0   16186589.0   42.2892   -71.0634  Private room in rental unit   \n",
       "2  1008.0  423270067.0   42.3449   -71.0833           Entire rental unit   \n",
       "3  1009.0    5408229.0   42.3377   -71.0743           Entire rental unit   \n",
       "4  1011.0  502371178.0   42.3501   -71.1332         Private room in home   \n",
       "\n",
       "          roomtype  accomodates  bathrooms  bedrooms  beds  price  \\\n",
       "0  Entire home/apt            5        2.0         2     2  392.0   \n",
       "1     Private room            1        1.0         0     1   50.0   \n",
       "2  Entire home/apt            8        2.0         2     4  501.0   \n",
       "3  Entire home/apt            4        1.0         2     2  150.0   \n",
       "4     Private room            2        2.0         0     1  135.0   \n",
       "\n",
       "   minimum_nights  maximum_nights  \\\n",
       "0               1             365   \n",
       "1              30            1124   \n",
       "2               1             365   \n",
       "3              29             180   \n",
       "4               1             365   \n",
       "\n",
       "                                             license instant_bookable  \\\n",
       "0                                           Approved                f   \n",
       "1                                         unlicensed                f   \n",
       "2  Exempt: This listing is a unit used for furnis...                t   \n",
       "3                                         unlicensed                f   \n",
       "4  Exempt: This listing is a unit that has contra...                t   \n",
       "\n",
       "  bathroom_type  review_score_rating  reviews_per_month  neighbourhood_id  \n",
       "0       private                 5.00               4.88               9.0  \n",
       "1        shared                 4.64               0.19              12.0  \n",
       "2       private                 4.50               1.28               3.0  \n",
       "3       private                 4.83               3.24               9.0  \n",
       "4        shared                 0.00               0.00              24.0  "
      ]
     },
     "execution_count": 19,
     "metadata": {},
     "output_type": "execute_result"
    }
   ],
   "source": [
    "df_listings.head()"
   ]
  },
  {
   "cell_type": "code",
   "execution_count": 20,
   "id": "22c6ec2f-c506-4130-bc6b-9cdc9f8efb23",
   "metadata": {
    "tags": []
   },
   "outputs": [
    {
     "name": "stderr",
     "output_type": "stream",
     "text": [
      "/var/folders/8p/y_wdqdj16x3fd01t0y6lrkq80000gn/T/ipykernel_2255/2626752157.py:3: UserWarning: pandas only supports SQLAlchemy connectable (engine/connection) or database string URI or sqlite3 DBAPI2 connection. Other DBAPI2 objects are not tested. Please consider using SQLAlchemy.\n",
      "  df_listings_amenities = pd.read_sql(query, connection)\n"
     ]
    }
   ],
   "source": [
    "# Query \"listings_amenities\" table to retrieve data\n",
    "query = \"SELECT * FROM listings_amenities;\"\n",
    "df_listings_amenities = pd.read_sql(query, connection)"
   ]
  },
  {
   "cell_type": "code",
   "execution_count": 21,
   "id": "053fa4e5-6dc7-4ddd-85d8-9546237e8d18",
   "metadata": {
    "tags": []
   },
   "outputs": [
    {
     "data": {
      "text/html": [
       "<div>\n",
       "<style scoped>\n",
       "    .dataframe tbody tr th:only-of-type {\n",
       "        vertical-align: middle;\n",
       "    }\n",
       "\n",
       "    .dataframe tbody tr th {\n",
       "        vertical-align: top;\n",
       "    }\n",
       "\n",
       "    .dataframe thead th {\n",
       "        text-align: right;\n",
       "    }\n",
       "</style>\n",
       "<table border=\"1\" class=\"dataframe\">\n",
       "  <thead>\n",
       "    <tr style=\"text-align: right;\">\n",
       "      <th></th>\n",
       "      <th>id</th>\n",
       "      <th>amenity_id</th>\n",
       "    </tr>\n",
       "  </thead>\n",
       "  <tbody>\n",
       "    <tr>\n",
       "      <th>0</th>\n",
       "      <td>1005.0</td>\n",
       "      <td>0.0</td>\n",
       "    </tr>\n",
       "    <tr>\n",
       "      <th>1</th>\n",
       "      <td>1005.0</td>\n",
       "      <td>1.0</td>\n",
       "    </tr>\n",
       "    <tr>\n",
       "      <th>2</th>\n",
       "      <td>1005.0</td>\n",
       "      <td>2.0</td>\n",
       "    </tr>\n",
       "    <tr>\n",
       "      <th>3</th>\n",
       "      <td>1005.0</td>\n",
       "      <td>5.0</td>\n",
       "    </tr>\n",
       "    <tr>\n",
       "      <th>4</th>\n",
       "      <td>1005.0</td>\n",
       "      <td>6.0</td>\n",
       "    </tr>\n",
       "  </tbody>\n",
       "</table>\n",
       "</div>"
      ],
      "text/plain": [
       "       id  amenity_id\n",
       "0  1005.0         0.0\n",
       "1  1005.0         1.0\n",
       "2  1005.0         2.0\n",
       "3  1005.0         5.0\n",
       "4  1005.0         6.0"
      ]
     },
     "execution_count": 21,
     "metadata": {},
     "output_type": "execute_result"
    }
   ],
   "source": [
    "df_listings_amenities.head()"
   ]
  },
  {
   "cell_type": "code",
   "execution_count": 22,
   "id": "03ed3d2e-21e1-4251-875e-409ff6b65d74",
   "metadata": {
    "tags": []
   },
   "outputs": [
    {
     "name": "stderr",
     "output_type": "stream",
     "text": [
      "/var/folders/8p/y_wdqdj16x3fd01t0y6lrkq80000gn/T/ipykernel_2255/1991728853.py:3: UserWarning: pandas only supports SQLAlchemy connectable (engine/connection) or database string URI or sqlite3 DBAPI2 connection. Other DBAPI2 objects are not tested. Please consider using SQLAlchemy.\n",
      "  df_neighbourhood = pd.read_sql(query, connection)\n"
     ]
    }
   ],
   "source": [
    "# Query \"neighbourhood\" table to retrieve data\n",
    "query = \"SELECT * FROM neighbourhood;\"\n",
    "df_neighbourhood = pd.read_sql(query, connection)"
   ]
  },
  {
   "cell_type": "code",
   "execution_count": 23,
   "id": "d417a027-5bf1-47e9-bb5e-3271f1a9d8c7",
   "metadata": {
    "tags": []
   },
   "outputs": [
    {
     "data": {
      "text/html": [
       "<div>\n",
       "<style scoped>\n",
       "    .dataframe tbody tr th:only-of-type {\n",
       "        vertical-align: middle;\n",
       "    }\n",
       "\n",
       "    .dataframe tbody tr th {\n",
       "        vertical-align: top;\n",
       "    }\n",
       "\n",
       "    .dataframe thead th {\n",
       "        text-align: right;\n",
       "    }\n",
       "</style>\n",
       "<table border=\"1\" class=\"dataframe\">\n",
       "  <thead>\n",
       "    <tr style=\"text-align: right;\">\n",
       "      <th></th>\n",
       "      <th>neighbourhood_id</th>\n",
       "      <th>neighbourhood</th>\n",
       "      <th>neighbourhood_group</th>\n",
       "    </tr>\n",
       "  </thead>\n",
       "  <tbody>\n",
       "    <tr>\n",
       "      <th>0</th>\n",
       "      <td>1.0</td>\n",
       "      <td>Leather District</td>\n",
       "      <td>Downtown Area</td>\n",
       "    </tr>\n",
       "    <tr>\n",
       "      <th>1</th>\n",
       "      <td>2.0</td>\n",
       "      <td>Chinatown</td>\n",
       "      <td>Downtown Area</td>\n",
       "    </tr>\n",
       "    <tr>\n",
       "      <th>2</th>\n",
       "      <td>3.0</td>\n",
       "      <td>Back Bay</td>\n",
       "      <td>Downtown Area</td>\n",
       "    </tr>\n",
       "    <tr>\n",
       "      <th>3</th>\n",
       "      <td>4.0</td>\n",
       "      <td>West End</td>\n",
       "      <td>Downtown Area</td>\n",
       "    </tr>\n",
       "    <tr>\n",
       "      <th>4</th>\n",
       "      <td>5.0</td>\n",
       "      <td>Bay Village</td>\n",
       "      <td>Downtown Area</td>\n",
       "    </tr>\n",
       "  </tbody>\n",
       "</table>\n",
       "</div>"
      ],
      "text/plain": [
       "   neighbourhood_id     neighbourhood neighbourhood_group\n",
       "0               1.0  Leather District       Downtown Area\n",
       "1               2.0         Chinatown       Downtown Area\n",
       "2               3.0          Back Bay       Downtown Area\n",
       "3               4.0          West End       Downtown Area\n",
       "4               5.0       Bay Village       Downtown Area"
      ]
     },
     "execution_count": 23,
     "metadata": {},
     "output_type": "execute_result"
    }
   ],
   "source": [
    "df_neighbourhood.head()"
   ]
  },
  {
   "cell_type": "code",
   "execution_count": 24,
   "id": "2ac47d9c-e272-4d6a-8fbf-380f4f2d61cf",
   "metadata": {
    "tags": []
   },
   "outputs": [
    {
     "name": "stderr",
     "output_type": "stream",
     "text": [
      "/var/folders/8p/y_wdqdj16x3fd01t0y6lrkq80000gn/T/ipykernel_2255/3510648206.py:3: UserWarning: pandas only supports SQLAlchemy connectable (engine/connection) or database string URI or sqlite3 DBAPI2 connection. Other DBAPI2 objects are not tested. Please consider using SQLAlchemy.\n",
      "  df_reviews = pd.read_sql(query, connection)\n"
     ]
    }
   ],
   "source": [
    "# Query \"reviews\" table to retrieve data\n",
    "query = \"SELECT * FROM reviews;\"\n",
    "df_reviews = pd.read_sql(query, connection)"
   ]
  },
  {
   "cell_type": "markdown",
   "id": "8c85124e-4ae8-4e1d-babf-9361faa7bd17",
   "metadata": {
    "tags": []
   },
   "source": [
    "df_reviews.head()"
   ]
  },
  {
   "cell_type": "code",
   "execution_count": null,
   "id": "65574a8b-fe5f-4f7f-b9ef-72f299776872",
   "metadata": {},
   "outputs": [],
   "source": []
  },
  {
   "cell_type": "markdown",
   "id": "cf51ee99-a89f-4880-b7bc-11e75f3cb9c4",
   "metadata": {},
   "source": [
    "# Question: 1 Revenue across years"
   ]
  },
  {
   "cell_type": "code",
   "execution_count": 25,
   "id": "80a687b1-870b-40a6-95f2-493133b914c5",
   "metadata": {
    "tags": []
   },
   "outputs": [],
   "source": [
    "query= \"\"\"\n",
    "SELECT\n",
    "    YEAR(b.checkin_date) AS year,\n",
    "    SUM(DATEDIFF(b.checkout_date, b.checkin_date) * l.price) AS total_revenue\n",
    "FROM\n",
    "    bookings b\n",
    "        JOIN\n",
    "    listings l ON b.listing_id = l.id\n",
    "GROUP BY year\n",
    "ORDER BY year;\n",
    "\"\"\""
   ]
  },
  {
   "cell_type": "code",
   "execution_count": 26,
   "id": "0ceac040-7f5e-4ab3-ad20-b6a2cf8fab95",
   "metadata": {
    "tags": []
   },
   "outputs": [
    {
     "data": {
      "text/plain": [
       "15"
      ]
     },
     "execution_count": 26,
     "metadata": {},
     "output_type": "execute_result"
    }
   ],
   "source": [
    "cursor.execute(query)"
   ]
  },
  {
   "cell_type": "code",
   "execution_count": 27,
   "id": "1d433fe0-b2d7-4e48-9a67-52334b9f6462",
   "metadata": {
    "tags": []
   },
   "outputs": [
    {
     "name": "stdout",
     "output_type": "stream",
     "text": [
      "(2009, 1312.0)\n",
      "(2010, 12943.0)\n",
      "(2011, 27135.0)\n",
      "(2012, 61762.0)\n",
      "(2013, 155292.0)\n",
      "(2014, 353518.0)\n",
      "(2015, 773955.0)\n",
      "(2016, 1345844.0)\n",
      "(2017, 2426941.0)\n",
      "(2018, 3683845.0)\n",
      "(2019, 4498497.0)\n",
      "(2020, 2318397.0)\n",
      "(2021, 5913841.0)\n",
      "(2022, 10091957.0)\n",
      "(2023, 8523215.0)\n"
     ]
    }
   ],
   "source": [
    "#Fetch and print the results\n",
    "results = cursor.fetchall()\n",
    "for row in results:\n",
    "    print(row)"
   ]
  },
  {
   "cell_type": "code",
   "execution_count": 28,
   "id": "83361dc8-d8ef-45cb-a8ef-d2ae2389ae23",
   "metadata": {
    "tags": []
   },
   "outputs": [
    {
     "name": "stdout",
     "output_type": "stream",
     "text": [
      "['year', 'total_revenue']\n"
     ]
    }
   ],
   "source": [
    "column_names = [desc[0] for desc in cursor.description]\n",
    "print(column_names)"
   ]
  },
  {
   "cell_type": "code",
   "execution_count": 29,
   "id": "84c97795-14da-4e8b-a360-f600d4dd896f",
   "metadata": {
    "tags": []
   },
   "outputs": [],
   "source": [
    "df_q1_results=pd.DataFrame(results, columns=column_names)"
   ]
  },
  {
   "cell_type": "code",
   "execution_count": 30,
   "id": "b3e6ab4c-d089-42b0-952f-b8dfecb633ff",
   "metadata": {
    "tags": []
   },
   "outputs": [
    {
     "data": {
      "text/html": [
       "<div>\n",
       "<style scoped>\n",
       "    .dataframe tbody tr th:only-of-type {\n",
       "        vertical-align: middle;\n",
       "    }\n",
       "\n",
       "    .dataframe tbody tr th {\n",
       "        vertical-align: top;\n",
       "    }\n",
       "\n",
       "    .dataframe thead th {\n",
       "        text-align: right;\n",
       "    }\n",
       "</style>\n",
       "<table border=\"1\" class=\"dataframe\">\n",
       "  <thead>\n",
       "    <tr style=\"text-align: right;\">\n",
       "      <th></th>\n",
       "      <th>year</th>\n",
       "      <th>total_revenue</th>\n",
       "    </tr>\n",
       "  </thead>\n",
       "  <tbody>\n",
       "    <tr>\n",
       "      <th>0</th>\n",
       "      <td>2009</td>\n",
       "      <td>1312.0</td>\n",
       "    </tr>\n",
       "    <tr>\n",
       "      <th>1</th>\n",
       "      <td>2010</td>\n",
       "      <td>12943.0</td>\n",
       "    </tr>\n",
       "    <tr>\n",
       "      <th>2</th>\n",
       "      <td>2011</td>\n",
       "      <td>27135.0</td>\n",
       "    </tr>\n",
       "    <tr>\n",
       "      <th>3</th>\n",
       "      <td>2012</td>\n",
       "      <td>61762.0</td>\n",
       "    </tr>\n",
       "    <tr>\n",
       "      <th>4</th>\n",
       "      <td>2013</td>\n",
       "      <td>155292.0</td>\n",
       "    </tr>\n",
       "  </tbody>\n",
       "</table>\n",
       "</div>"
      ],
      "text/plain": [
       "   year  total_revenue\n",
       "0  2009         1312.0\n",
       "1  2010        12943.0\n",
       "2  2011        27135.0\n",
       "3  2012        61762.0\n",
       "4  2013       155292.0"
      ]
     },
     "execution_count": 30,
     "metadata": {},
     "output_type": "execute_result"
    }
   ],
   "source": [
    "df_q1_results.head()"
   ]
  },
  {
   "cell_type": "code",
   "execution_count": 31,
   "id": "c1895737-91c7-4dff-beb9-6e5b389e958d",
   "metadata": {
    "tags": []
   },
   "outputs": [
    {
     "data": {
      "image/png": "[encoded data removed]",
      "text/plain": [
       "<Figure size 800x600 with 1 Axes>"
      ]
     },
     "metadata": {},
     "output_type": "display_data"
    }
   ],
   "source": [
    "plt.figure(figsize=(8, 6))  \n",
    "\n",
    "#Seaborn visualization code here\n",
    "sns.barplot(x='year', y='total_revenue', data=df_q1_results)\n",
    "plt.xlabel('year')\n",
    "plt.ylabel('Revenue in tens of millions')\n",
    "plt.show()"
   ]
  },
  {
   "cell_type": "markdown",
   "id": "9296be43-6412-4291-ba84-50a9c07d5291",
   "metadata": {},
   "source": [
    " # Q2 Number of bookings vs month for every year"
   ]
  },
  {
   "cell_type": "code",
   "execution_count": 32,
   "id": "860eb208-28a2-47fe-8af3-54e839eeccc2",
   "metadata": {
    "tags": []
   },
   "outputs": [],
   "source": [
    "query=\"\"\"\n",
    "    \n",
    "SELECT\n",
    "    YEAR(checkin_date) AS year,\n",
    "    MONTH(checkin_date) AS month,\n",
    "    SUBSTRING(MONTHNAME(checkin_date),1,3) AS month_name,\n",
    "    COUNT(booking_id) AS total_bookings\n",
    "FROM\n",
    "    bookings\n",
    "    \n",
    "    WHERE YEAR(checkin_date) IN ('2022', '2021', '2020')\n",
    "GROUP BY\n",
    "    year, month_name, month\n",
    "ORDER BY\n",
    "    year,month;\n",
    "\n",
    "\"\"\""
   ]
  },
  {
   "cell_type": "code",
   "execution_count": 33,
   "id": "e7bc37ed-7c91-4a00-a2ac-00c181e5f315",
   "metadata": {
    "tags": []
   },
   "outputs": [
    {
     "data": {
      "text/plain": [
       "36"
      ]
     },
     "execution_count": 33,
     "metadata": {},
     "output_type": "execute_result"
    }
   ],
   "source": [
    "cursor.execute(query)"
   ]
  },
  {
   "cell_type": "code",
   "execution_count": 36,
   "id": "1d87fa59-5c75-434a-b0a8-a2a55a827291",
   "metadata": {
    "tags": []
   },
   "outputs": [
    {
     "name": "stdout",
     "output_type": "stream",
     "text": [
      "(2020, 1, 'Jan', 1135)\n",
      "(2020, 2, 'Feb', 1305)\n",
      "(2020, 3, 'Mar', 857)\n",
      "(2020, 4, 'Apr', 149)\n",
      "(2020, 5, 'May', 273)\n",
      "(2020, 6, 'Jun', 448)\n",
      "(2020, 7, 'Jul', 862)\n",
      "(2020, 8, 'Aug', 1098)\n",
      "(2020, 9, 'Sep', 1027)\n",
      "(2020, 10, 'Oct', 1495)\n",
      "(2020, 11, 'Nov', 886)\n",
      "(2020, 12, 'Dec', 642)\n",
      "(2021, 1, 'Jan', 724)\n",
      "(2021, 2, 'Feb', 720)\n",
      "(2021, 3, 'Mar', 1003)\n",
      "(2021, 4, 'Apr', 1275)\n",
      "(2021, 5, 'May', 1837)\n",
      "(2021, 6, 'Jun', 2000)\n",
      "(2021, 7, 'Jul', 2631)\n",
      "(2021, 8, 'Aug', 2678)\n",
      "(2021, 9, 'Sep', 2743)\n",
      "(2021, 10, 'Oct', 3582)\n",
      "(2021, 11, 'Nov', 2505)\n",
      "(2021, 12, 'Dec', 2087)\n",
      "(2022, 1, 'Jan', 1654)\n",
      "(2022, 2, 'Feb', 1743)\n",
      "(2022, 3, 'Mar', 2644)\n",
      "(2022, 4, 'Apr', 3429)\n",
      "(2022, 5, 'May', 4041)\n",
      "(2022, 6, 'Jun', 4093)\n",
      "(2022, 7, 'Jul', 4155)\n",
      "(2022, 8, 'Aug', 4249)\n",
      "(2022, 9, 'Sep', 4663)\n",
      "(2022, 10, 'Oct', 5134)\n",
      "(2022, 11, 'Nov', 3364)\n",
      "(2022, 12, 'Dec', 2397)\n"
     ]
    }
   ],
   "source": [
    "#Fetch and print the results\n",
    "results = cursor.fetchall()\n",
    "for row in results:\n",
    "    print(row)"
   ]
  },
  {
   "cell_type": "code",
   "execution_count": 37,
   "id": "7327cdbc-6728-40b1-9077-e6be060b53c2",
   "metadata": {
    "tags": []
   },
   "outputs": [],
   "source": [
    "column_names = [desc[0] for desc in cursor.description]\n",
    "df_q5_results=pd.DataFrame(results, columns=column_names)"
   ]
  },
  {
   "cell_type": "code",
   "execution_count": 38,
   "id": "c3913e1f-df64-4622-8a5f-ae04f8093132",
   "metadata": {
    "tags": []
   },
   "outputs": [
    {
     "data": {
      "image/png": "[encoded data removed]",
      "text/plain": [
       "<Figure size 1000x800 with 1 Axes>"
      ]
     },
     "metadata": {},
     "output_type": "display_data"
    }
   ],
   "source": [
    "plt.figure(figsize=(10,8))\n",
    "\n",
    "\n",
    "# Separate the data by year\n",
    "years = df_q5_results['year'].unique()\n",
    "\n",
    "# Plot each line\n",
    "for year in years:\n",
    "    data_year = df_q5_results[df_q5_results['year'] == year]\n",
    "    plt.plot(data_year['month_name'], data_year['total_bookings'], label=str(year))\n",
    "\n",
    "# Customize the plot\n",
    "plt.xlabel('Month')\n",
    "plt.ylabel('Total Bookings')\n",
    "plt.title('Total Bookings by Month for Each Year')\n",
    "plt.legend(title='Year')\n",
    "#plt.xticks(months)\n",
    "plt.show()"
   ]
  },
  {
   "cell_type": "markdown",
   "id": "fef02594-eaff-4d21-8f33-7a49dd6a1f10",
   "metadata": {},
   "source": [
    "# Question 3: Long-stay vs short-stay"
   ]
  },
  {
   "cell_type": "code",
   "execution_count": 40,
   "id": "40c6e71d-3fe8-40fb-86fd-48e04efa280a",
   "metadata": {
    "tags": []
   },
   "outputs": [],
   "source": [
    "query=\"\"\"\n",
    "        WITH rental_mapping (listing_id, type_of_rental) AS\n",
    "(\n",
    "    SELECT id,\n",
    "           CASE \n",
    "               WHEN minimum_nights >= 30 THEN \"long-term\"\n",
    "               ELSE \"short-term\"\n",
    "           END\n",
    "    FROM listings\n",
    ")\n",
    "SELECT type_of_rental,\n",
    "    round(COUNT(listing_id) * 100.0 / SUM(COUNT(listing_id)) OVER (),0) AS listing_percentage\n",
    "FROM rental_mapping\n",
    "GROUP BY type_of_rental;\n",
    "\"\"\""
   ]
  },
  {
   "cell_type": "code",
   "execution_count": 41,
   "id": "935d821b-df03-4dbe-9305-8084d24b55c0",
   "metadata": {
    "tags": []
   },
   "outputs": [
    {
     "data": {
      "text/plain": [
       "2"
      ]
     },
     "execution_count": 41,
     "metadata": {},
     "output_type": "execute_result"
    }
   ],
   "source": [
    "cursor.execute(query)"
   ]
  },
  {
   "cell_type": "code",
   "execution_count": 42,
   "id": "853433a4-1f0b-4a2e-900d-3a19166e52e2",
   "metadata": {
    "tags": []
   },
   "outputs": [
    {
     "name": "stdout",
     "output_type": "stream",
     "text": [
      "['type_of_rental', 'listing_percentage']\n"
     ]
    }
   ],
   "source": [
    "column_names = [desc[0] for desc in cursor.description]\n",
    "print(column_names)"
   ]
  },
  {
   "cell_type": "code",
   "execution_count": 43,
   "id": "fa4b2bc8-e606-4350-b4bb-d01c43742e96",
   "metadata": {
    "tags": []
   },
   "outputs": [
    {
     "name": "stdout",
     "output_type": "stream",
     "text": [
      "('short-term', Decimal('65'))\n",
      "('long-term', Decimal('35'))\n"
     ]
    }
   ],
   "source": [
    "#Fetch and print the results\n",
    "results = cursor.fetchall()\n",
    "for row in results:\n",
    "    print(row)"
   ]
  },
  {
   "cell_type": "code",
   "execution_count": 44,
   "id": "d6f33c58-4f21-414a-96ea-1e4a341bab9a",
   "metadata": {
    "tags": []
   },
   "outputs": [],
   "source": [
    "df_q2_results=pd.DataFrame(results, columns=column_names)"
   ]
  },
  {
   "cell_type": "code",
   "execution_count": 45,
   "id": "b416f420-816f-4c41-9789-f931c4836e09",
   "metadata": {
    "tags": []
   },
   "outputs": [
    {
     "data": {
      "text/html": [
       "<div>\n",
       "<style scoped>\n",
       "    .dataframe tbody tr th:only-of-type {\n",
       "        vertical-align: middle;\n",
       "    }\n",
       "\n",
       "    .dataframe tbody tr th {\n",
       "        vertical-align: top;\n",
       "    }\n",
       "\n",
       "    .dataframe thead th {\n",
       "        text-align: right;\n",
       "    }\n",
       "</style>\n",
       "<table border=\"1\" class=\"dataframe\">\n",
       "  <thead>\n",
       "    <tr style=\"text-align: right;\">\n",
       "      <th></th>\n",
       "      <th>type_of_rental</th>\n",
       "      <th>listing_percentage</th>\n",
       "    </tr>\n",
       "  </thead>\n",
       "  <tbody>\n",
       "    <tr>\n",
       "      <th>0</th>\n",
       "      <td>short-term</td>\n",
       "      <td>65</td>\n",
       "    </tr>\n",
       "    <tr>\n",
       "      <th>1</th>\n",
       "      <td>long-term</td>\n",
       "      <td>35</td>\n",
       "    </tr>\n",
       "  </tbody>\n",
       "</table>\n",
       "</div>"
      ],
      "text/plain": [
       "  type_of_rental listing_percentage\n",
       "0     short-term                 65\n",
       "1      long-term                 35"
      ]
     },
     "execution_count": 45,
     "metadata": {},
     "output_type": "execute_result"
    }
   ],
   "source": [
    "df_q2_results.head()"
   ]
  },
  {
   "cell_type": "code",
   "execution_count": 46,
   "id": "9dec88db-3e89-41b5-9a34-2f95f9279174",
   "metadata": {
    "tags": []
   },
   "outputs": [],
   "source": [
    "# #Seaborn visualization code here\n",
    "# sns.barplot(x='type_of_rental', y='listing_percentage', data=df_q2_results)\n",
    "# plt.show()"
   ]
  },
  {
   "cell_type": "code",
   "execution_count": 47,
   "id": "22f05ca9-675a-4776-ab74-278788e4e29a",
   "metadata": {
    "tags": []
   },
   "outputs": [
    {
     "data": {
      "image/png": "[encoded data removed]",
      "text/plain": [
       "<Figure size 640x480 with 1 Axes>"
      ]
     },
     "metadata": {},
     "output_type": "display_data"
    }
   ],
   "source": [
    "fig, ax = plt.subplots()\n",
    "ax.pie(df_q2_results['listing_percentage'], labels=df_q2_results['type_of_rental'], autopct='%1.1f%%')\n",
    "plt.show()"
   ]
  },
  {
   "cell_type": "markdown",
   "id": "38a0f2ce-b8fb-42b1-9373-0da3cf2074ba",
   "metadata": {},
   "source": [
    " # Question 4: Distribution of room types (private, shared, hotel, apartments)"
   ]
  },
  {
   "cell_type": "code",
   "execution_count": 48,
   "id": "9e3569c4-1f4f-4f8d-a37a-603592fafd27",
   "metadata": {
    "tags": []
   },
   "outputs": [],
   "source": [
    "query=\"\"\"\n",
    "SELECT\n",
    "    roomtype,\n",
    "    COUNT(*) AS number_of_listings,\n",
    "    round((COUNT(*) * 100.0) / SUM(COUNT(*)) OVER (),2) AS percentage\n",
    "FROM\n",
    "    listings\n",
    "GROUP BY\n",
    "    roomtype\n",
    "order by  percentage desc;\n",
    "\"\"\""
   ]
  },
  {
   "cell_type": "code",
   "execution_count": 49,
   "id": "13abd4f2-3c5b-4845-8f3d-913d728c65e0",
   "metadata": {
    "tags": []
   },
   "outputs": [
    {
     "data": {
      "text/plain": [
       "4"
      ]
     },
     "execution_count": 49,
     "metadata": {},
     "output_type": "execute_result"
    }
   ],
   "source": [
    "cursor.execute(query)"
   ]
  },
  {
   "cell_type": "code",
   "execution_count": 50,
   "id": "018f6d23-f6e3-45a6-bea1-564839316bca",
   "metadata": {
    "tags": []
   },
   "outputs": [
    {
     "name": "stdout",
     "output_type": "stream",
     "text": [
      "('Entire home/apt', 2703, Decimal('67.02'))\n",
      "('Private room', 1278, Decimal('31.69'))\n",
      "('Hotel room', 31, Decimal('0.77'))\n",
      "('Shared room', 21, Decimal('0.52'))\n"
     ]
    }
   ],
   "source": [
    "#Fetch and print the results\n",
    "results = cursor.fetchall()\n",
    "for row in results:\n",
    "    print(row)"
   ]
  },
  {
   "cell_type": "code",
   "execution_count": 51,
   "id": "4ed82162-bc32-459d-b2c4-e5dbdde55d1d",
   "metadata": {
    "tags": []
   },
   "outputs": [
    {
     "name": "stdout",
     "output_type": "stream",
     "text": [
      "['roomtype', 'number_of_listings', 'percentage']\n"
     ]
    }
   ],
   "source": [
    "column_names = [desc[0] for desc in cursor.description]\n",
    "print(column_names)"
   ]
  },
  {
   "cell_type": "code",
   "execution_count": 52,
   "id": "e14d68d3-2da2-4168-8c38-c661b21f31fc",
   "metadata": {
    "tags": []
   },
   "outputs": [],
   "source": [
    "df_q3_results=pd.DataFrame(results, columns=column_names)"
   ]
  },
  {
   "cell_type": "code",
   "execution_count": 53,
   "id": "d4e13f8e-e606-4f71-8f1c-a51bdc0c1c05",
   "metadata": {
    "tags": []
   },
   "outputs": [
    {
     "data": {
      "text/html": [
       "<div>\n",
       "<style scoped>\n",
       "    .dataframe tbody tr th:only-of-type {\n",
       "        vertical-align: middle;\n",
       "    }\n",
       "\n",
       "    .dataframe tbody tr th {\n",
       "        vertical-align: top;\n",
       "    }\n",
       "\n",
       "    .dataframe thead th {\n",
       "        text-align: right;\n",
       "    }\n",
       "</style>\n",
       "<table border=\"1\" class=\"dataframe\">\n",
       "  <thead>\n",
       "    <tr style=\"text-align: right;\">\n",
       "      <th></th>\n",
       "      <th>roomtype</th>\n",
       "      <th>number_of_listings</th>\n",
       "      <th>percentage</th>\n",
       "    </tr>\n",
       "  </thead>\n",
       "  <tbody>\n",
       "    <tr>\n",
       "      <th>0</th>\n",
       "      <td>Entire home/apt</td>\n",
       "      <td>2703</td>\n",
       "      <td>67.02</td>\n",
       "    </tr>\n",
       "    <tr>\n",
       "      <th>1</th>\n",
       "      <td>Private room</td>\n",
       "      <td>1278</td>\n",
       "      <td>31.69</td>\n",
       "    </tr>\n",
       "    <tr>\n",
       "      <th>2</th>\n",
       "      <td>Hotel room</td>\n",
       "      <td>31</td>\n",
       "      <td>0.77</td>\n",
       "    </tr>\n",
       "    <tr>\n",
       "      <th>3</th>\n",
       "      <td>Shared room</td>\n",
       "      <td>21</td>\n",
       "      <td>0.52</td>\n",
       "    </tr>\n",
       "  </tbody>\n",
       "</table>\n",
       "</div>"
      ],
      "text/plain": [
       "          roomtype  number_of_listings percentage\n",
       "0  Entire home/apt                2703      67.02\n",
       "1     Private room                1278      31.69\n",
       "2       Hotel room                  31       0.77\n",
       "3      Shared room                  21       0.52"
      ]
     },
     "execution_count": 53,
     "metadata": {},
     "output_type": "execute_result"
    }
   ],
   "source": [
    "df_q3_results.head()"
   ]
  },
  {
   "cell_type": "code",
   "execution_count": 54,
   "id": "66162d94-dc94-409e-a6f2-e0636811413e",
   "metadata": {
    "tags": []
   },
   "outputs": [
    {
     "data": {
      "text/plain": [
       "(('Entire home/apt', 2703, Decimal('67.02')),\n",
       " ('Private room', 1278, Decimal('31.69')),\n",
       " ('Hotel room', 31, Decimal('0.77')),\n",
       " ('Shared room', 21, Decimal('0.52')))"
      ]
     },
     "execution_count": 54,
     "metadata": {},
     "output_type": "execute_result"
    }
   ],
   "source": [
    "results"
   ]
  },
  {
   "cell_type": "code",
   "execution_count": 55,
   "id": "f3a4e303-cc94-4211-a03f-6d2f0fdf09f0",
   "metadata": {
    "tags": []
   },
   "outputs": [
    {
     "data": {
      "image/png": "[encoded data removed]",
      "text/plain": [
       "<Figure size 800x600 with 1 Axes>"
      ]
     },
     "metadata": {},
     "output_type": "display_data"
    }
   ],
   "source": [
    "# Create a bar plot with Seaborn\n",
    "sns.set(style=\"whitegrid\")  # Set style for better aesthetics\n",
    "plt.figure(figsize=(8, 6))  # Set the figure size\n",
    "\n",
    "# Use the barplot function with data and ordering\n",
    "sns.barplot(x='roomtype', y='number_of_listings', data=df_q3_results, order=df_q3_results.sort_values(by='number_of_listings')['roomtype'], palette='viridis')\n",
    "\n",
    "# Show the plot\n",
    "plt.show()\n"
   ]
  },
  {
   "cell_type": "code",
   "execution_count": 56,
   "id": "6b508def-7e39-450f-be58-b98310243dc7",
   "metadata": {
    "tags": []
   },
   "outputs": [
    {
     "data": {
      "image/png": "[encoded data removed]",
      "text/plain": [
       "<Figure size 800x600 with 1 Axes>"
      ]
     },
     "metadata": {},
     "output_type": "display_data"
    }
   ],
   "source": [
    "# Create a bar plot with Seaborn\n",
    "sns.set(style=\"whitegrid\")  # Set style for better aesthetics\n",
    "plt.figure(figsize=(8, 6))  # Set the figure size\n",
    "\n",
    "# Use the barplot function with data and ordering\n",
    "ax=sns.barplot(x='roomtype', y='percentage', data=df_q3_results, order=df_q3_results.sort_values(by='percentage')['roomtype'], palette='viridis')\n",
    "\n",
    "for p in ax.patches:\n",
    "    height = p.get_height()\n",
    "    ax.annotate(f'{height}',\n",
    "                (p.get_x() + p.get_width() / 2., height),\n",
    "\n",
    "  \n",
    "                ha='center', va='center', xytext=(0, 10), textcoords='offset points', fontsize=10, color='black')\n",
    "\n",
    "plt.xlabel('Room Type')\n",
    "plt.ylabel('(%)Listings')\n",
    "\n",
    "# Show the plot\n",
    "plt.show()\n"
   ]
  },
  {
   "cell_type": "code",
   "execution_count": 58,
   "id": "31deb448-080f-4c3d-88c1-ea51ac415346",
   "metadata": {
    "tags": []
   },
   "outputs": [],
   "source": [
    "cursor.close()"
   ]
  },
  {
   "cell_type": "code",
   "execution_count": 59,
   "id": "aa5f019d-e124-46bc-b9e5-4341d1edd386",
   "metadata": {
    "tags": []
   },
   "outputs": [],
   "source": [
    "connection.close()"
   ]
  },
  {
   "cell_type": "code",
   "execution_count": 60,
   "id": "a145c848-78f5-4f03-9ffb-6e22caadf923",
   "metadata": {},
   "outputs": [],
   "source": [
    "# finally:\n",
    "#     # Close the cursor and connection in the finally block\n",
    "#     try:\n",
    "#         if cursor:\n",
    "#             cursor.close()\n",
    "#         if connection and connection.open:\n",
    "#             connection.close()\n",
    "#             print(\"MySQL connection closed\")\n",
    "#     except Exception as close_error:\n",
    "#         print(\"Error while closing connection:\", close_error)"
   ]
  },
  {
   "cell_type": "code",
   "execution_count": null,
   "id": "8c08353a",
   "metadata": {},
   "outputs": [],
   "source": []
  },
  {
   "cell_type": "code",
   "execution_count": null,
   "id": "04168ee5",
   "metadata": {},
   "outputs": [],
   "source": []
  },
  {
   "cell_type": "markdown",
   "id": "c91c6da2-1b5a-48e6-82c8-229f464fd72b",
   "metadata": {},
   "source": [
    "  # Extra(ignore) Question 6:"
   ]
  },
  {
   "cell_type": "code",
   "execution_count": 262,
   "id": "b083d413-1f16-450f-a9fd-a59844be7d03",
   "metadata": {
    "tags": []
   },
   "outputs": [],
   "source": [
    "query=\"\"\"\n",
    "WITH PropertyPopularity AS (\n",
    "    SELECT\n",
    "        n.neighbourhood,\n",
    "        l.roomtype,\n",
    "        COUNT(b.booking_id) AS num_bookings,\n",
    "        round(AVG(l.review_score_rating),2) AS avg_rating\n",
    "    FROM\n",
    "        listings l\n",
    "    JOIN\n",
    "        neighbourhood n ON l.neighbourhood_id = n.neighbourhood_id\n",
    "    LEFT JOIN\n",
    "        bookings b ON l.id = b.listing_id\n",
    "    WHERE\n",
    "        l.roomtype IS NOT NULL\n",
    "        AND l.review_score_rating>0\n",
    "    GROUP BY\n",
    "        n.neighbourhood, l.roomtype\n",
    ")\n",
    "\n",
    "SELECT\n",
    "    neighbourhood,\n",
    "    roomtype,\n",
    "    RANK() OVER (PARTITION BY neighbourhood ORDER BY num_bookings DESC) AS booking_rank,\n",
    "    RANK() OVER (PARTITION BY neighbourhood ORDER BY avg_rating DESC) AS rating_rank,\n",
    "    num_bookings,\n",
    "    avg_rating\n",
    "FROM\n",
    "    PropertyPopularity\n",
    "WHERE num_bookings>20\n",
    "ORDER BY\n",
    "    neighbourhood, booking_rank;\n",
    "\"\"\""
   ]
  },
  {
   "cell_type": "code",
   "execution_count": 263,
   "id": "36e5ed95-181b-49a3-bb00-7a02c8c1cf57",
   "metadata": {
    "tags": []
   },
   "outputs": [
    {
     "data": {
      "text/plain": [
       "53"
      ]
     },
     "execution_count": 263,
     "metadata": {},
     "output_type": "execute_result"
    }
   ],
   "source": [
    "cursor.execute(query)"
   ]
  },
  {
   "cell_type": "code",
   "execution_count": 264,
   "id": "b2f97f51-bcb4-4aa8-8fc3-8cd64abbd59b",
   "metadata": {
    "tags": []
   },
   "outputs": [
    {
     "name": "stdout",
     "output_type": "stream",
     "text": [
      "('Allston', 'Private room', 1, 2, 2909, Decimal('4.80'))\n",
      "('Allston', 'Entire home/apt', 2, 1, 2799, Decimal('4.85'))\n",
      "('Back Bay', 'Entire home/apt', 1, 1, 8514, Decimal('4.75'))\n",
      "('Back Bay', 'Private room', 2, 3, 1001, Decimal('4.48'))\n",
      "('Back Bay', 'Hotel room', 3, 2, 771, Decimal('4.63'))\n",
      "('Bay Village', 'Entire home/apt', 1, 1, 2293, Decimal('4.73'))\n",
      "('Bay Village', 'Private room', 2, 3, 597, Decimal('4.22'))\n",
      "('Bay Village', 'Shared room', 3, 2, 547, Decimal('4.61'))\n",
      "('Beacon Hill', 'Entire home/apt', 1, 1, 9079, Decimal('4.72'))\n",
      "('Beacon Hill', 'Private room', 2, 1, 411, Decimal('4.72'))\n",
      "('Brighton', 'Entire home/apt', 1, 1, 3770, Decimal('4.85'))\n",
      "('Brighton', 'Private room', 2, 2, 3178, Decimal('4.81'))\n",
      "('Brighton', 'Hotel room', 3, 4, 58, Decimal('4.60'))\n",
      "('Brighton', 'Shared room', 4, 3, 55, Decimal('4.73'))\n",
      "('Charlestown', 'Entire home/apt', 1, 1, 3790, Decimal('4.88'))\n",
      "('Charlestown', 'Private room', 2, 2, 981, Decimal('4.76'))\n",
      "('Chinatown', 'Entire home/apt', 1, 2, 1426, Decimal('4.68'))\n",
      "('Chinatown', 'Private room', 2, 1, 87, Decimal('4.71'))\n",
      "('Dorchester', 'Private room', 1, 2, 11977, Decimal('4.80'))\n",
      "('Dorchester', 'Entire home/apt', 2, 1, 9237, Decimal('4.81'))\n",
      "('Dorchester', 'Shared room', 3, 3, 61, Decimal('4.76'))\n",
      "('Downtown', 'Entire home/apt', 1, 1, 16619, Decimal('4.69'))\n",
      "('Downtown', 'Private room', 2, 3, 1907, Decimal('4.53'))\n",
      "('Downtown', 'Hotel room', 3, 2, 358, Decimal('4.67'))\n",
      "('East Boston', 'Private room', 1, 1, 12536, Decimal('4.83'))\n",
      "('East Boston', 'Entire home/apt', 2, 2, 6554, Decimal('4.76'))\n",
      "('Fenway', 'Entire home/apt', 1, 2, 4358, Decimal('4.77'))\n",
      "('Fenway', 'Private room', 2, 1, 1927, Decimal('4.92'))\n",
      "('Hyde Park', 'Entire home/apt', 1, 1, 1393, Decimal('4.82'))\n",
      "('Hyde Park', 'Private room', 2, 2, 554, Decimal('4.77'))\n",
      "('Jamaica Plain', 'Entire home/apt', 1, 1, 9883, Decimal('4.87'))\n",
      "('Jamaica Plain', 'Private room', 2, 2, 4115, Decimal('4.85'))\n",
      "('Longwood Medical Area', 'Entire home/apt', 1, 1, 26, Decimal('4.85'))\n",
      "('Mattapan', 'Private room', 1, 1, 1172, Decimal('4.80'))\n",
      "('Mattapan', 'Entire home/apt', 2, 1, 770, Decimal('4.80'))\n",
      "('Mission Hill', 'Entire home/apt', 1, 2, 1889, Decimal('4.77'))\n",
      "('Mission Hill', 'Private room', 2, 1, 593, Decimal('4.83'))\n",
      "('North End', 'Entire home/apt', 1, 2, 8902, Decimal('4.69'))\n",
      "('North End', 'Private room', 2, 1, 319, Decimal('4.93'))\n",
      "('Roslindale', 'Entire home/apt', 1, 2, 1460, Decimal('4.84'))\n",
      "('Roslindale', 'Private room', 2, 1, 1213, Decimal('4.85'))\n",
      "('Roxbury', 'Entire home/apt', 1, 1, 8223, Decimal('4.81'))\n",
      "('Roxbury', 'Private room', 2, 2, 5494, Decimal('4.78'))\n",
      "('South Boston', 'Entire home/apt', 1, 1, 6916, Decimal('4.87'))\n",
      "('South Boston', 'Private room', 2, 2, 3299, Decimal('4.69'))\n",
      "('South Boston Waterfront', 'Private room', 1, 2, 273, Decimal('4.74'))\n",
      "('South Boston Waterfront', 'Entire home/apt', 2, 1, 157, Decimal('4.75'))\n",
      "('South End', 'Entire home/apt', 1, 2, 13354, Decimal('4.72'))\n",
      "('South End', 'Private room', 2, 1, 3955, Decimal('4.74'))\n",
      "('West End', 'Entire home/apt', 1, 2, 316, Decimal('4.85'))\n",
      "('West End', 'Private room', 2, 1, 147, Decimal('4.86'))\n",
      "('West Roxbury', 'Entire home/apt', 1, 1, 1373, Decimal('4.87'))\n",
      "('West Roxbury', 'Private room', 2, 2, 999, Decimal('4.84'))\n"
     ]
    }
   ],
   "source": [
    "#Fetch and print the results\n",
    "results = cursor.fetchall()\n",
    "for row in results:\n",
    "    print(row)"
   ]
  },
  {
   "cell_type": "code",
   "execution_count": 265,
   "id": "8424a889-abd2-43b9-b8e3-4e05c2df1433",
   "metadata": {
    "tags": []
   },
   "outputs": [
    {
     "name": "stdout",
     "output_type": "stream",
     "text": [
      "['neighbourhood', 'roomtype', 'booking_rank', 'rating_rank', 'num_bookings', 'avg_rating']\n"
     ]
    }
   ],
   "source": [
    "column_names = [desc[0] for desc in cursor.description]\n",
    "print(column_names)"
   ]
  },
  {
   "cell_type": "code",
   "execution_count": 266,
   "id": "e12fc83b-8df0-46ac-accf-dbb47d4dd2e7",
   "metadata": {
    "tags": []
   },
   "outputs": [],
   "source": [
    "df_q6_results=pd.DataFrame(results, columns=column_names)"
   ]
  },
  {
   "cell_type": "code",
   "execution_count": 267,
   "id": "3025bf16-8568-44c4-bcc8-a20eb01cb0a0",
   "metadata": {
    "tags": []
   },
   "outputs": [
    {
     "data": {
      "text/html": [
       "<div>\n",
       "<style scoped>\n",
       "    .dataframe tbody tr th:only-of-type {\n",
       "        vertical-align: middle;\n",
       "    }\n",
       "\n",
       "    .dataframe tbody tr th {\n",
       "        vertical-align: top;\n",
       "    }\n",
       "\n",
       "    .dataframe thead th {\n",
       "        text-align: right;\n",
       "    }\n",
       "</style>\n",
       "<table border=\"1\" class=\"dataframe\">\n",
       "  <thead>\n",
       "    <tr style=\"text-align: right;\">\n",
       "      <th></th>\n",
       "      <th>neighbourhood</th>\n",
       "      <th>roomtype</th>\n",
       "      <th>booking_rank</th>\n",
       "      <th>rating_rank</th>\n",
       "      <th>num_bookings</th>\n",
       "      <th>avg_rating</th>\n",
       "    </tr>\n",
       "  </thead>\n",
       "  <tbody>\n",
       "    <tr>\n",
       "      <th>0</th>\n",
       "      <td>Allston</td>\n",
       "      <td>Private room</td>\n",
       "      <td>1</td>\n",
       "      <td>2</td>\n",
       "      <td>2909</td>\n",
       "      <td>4.80</td>\n",
       "    </tr>\n",
       "    <tr>\n",
       "      <th>1</th>\n",
       "      <td>Allston</td>\n",
       "      <td>Entire home/apt</td>\n",
       "      <td>2</td>\n",
       "      <td>1</td>\n",
       "      <td>2799</td>\n",
       "      <td>4.85</td>\n",
       "    </tr>\n",
       "    <tr>\n",
       "      <th>2</th>\n",
       "      <td>Back Bay</td>\n",
       "      <td>Entire home/apt</td>\n",
       "      <td>1</td>\n",
       "      <td>1</td>\n",
       "      <td>8514</td>\n",
       "      <td>4.75</td>\n",
       "    </tr>\n",
       "    <tr>\n",
       "      <th>3</th>\n",
       "      <td>Back Bay</td>\n",
       "      <td>Private room</td>\n",
       "      <td>2</td>\n",
       "      <td>3</td>\n",
       "      <td>1001</td>\n",
       "      <td>4.48</td>\n",
       "    </tr>\n",
       "    <tr>\n",
       "      <th>4</th>\n",
       "      <td>Back Bay</td>\n",
       "      <td>Hotel room</td>\n",
       "      <td>3</td>\n",
       "      <td>2</td>\n",
       "      <td>771</td>\n",
       "      <td>4.63</td>\n",
       "    </tr>\n",
       "    <tr>\n",
       "      <th>5</th>\n",
       "      <td>Bay Village</td>\n",
       "      <td>Entire home/apt</td>\n",
       "      <td>1</td>\n",
       "      <td>1</td>\n",
       "      <td>2293</td>\n",
       "      <td>4.73</td>\n",
       "    </tr>\n",
       "    <tr>\n",
       "      <th>6</th>\n",
       "      <td>Bay Village</td>\n",
       "      <td>Private room</td>\n",
       "      <td>2</td>\n",
       "      <td>3</td>\n",
       "      <td>597</td>\n",
       "      <td>4.22</td>\n",
       "    </tr>\n",
       "    <tr>\n",
       "      <th>7</th>\n",
       "      <td>Bay Village</td>\n",
       "      <td>Shared room</td>\n",
       "      <td>3</td>\n",
       "      <td>2</td>\n",
       "      <td>547</td>\n",
       "      <td>4.61</td>\n",
       "    </tr>\n",
       "    <tr>\n",
       "      <th>8</th>\n",
       "      <td>Beacon Hill</td>\n",
       "      <td>Entire home/apt</td>\n",
       "      <td>1</td>\n",
       "      <td>1</td>\n",
       "      <td>9079</td>\n",
       "      <td>4.72</td>\n",
       "    </tr>\n",
       "    <tr>\n",
       "      <th>9</th>\n",
       "      <td>Beacon Hill</td>\n",
       "      <td>Private room</td>\n",
       "      <td>2</td>\n",
       "      <td>1</td>\n",
       "      <td>411</td>\n",
       "      <td>4.72</td>\n",
       "    </tr>\n",
       "    <tr>\n",
       "      <th>10</th>\n",
       "      <td>Brighton</td>\n",
       "      <td>Entire home/apt</td>\n",
       "      <td>1</td>\n",
       "      <td>1</td>\n",
       "      <td>3770</td>\n",
       "      <td>4.85</td>\n",
       "    </tr>\n",
       "    <tr>\n",
       "      <th>11</th>\n",
       "      <td>Brighton</td>\n",
       "      <td>Private room</td>\n",
       "      <td>2</td>\n",
       "      <td>2</td>\n",
       "      <td>3178</td>\n",
       "      <td>4.81</td>\n",
       "    </tr>\n",
       "    <tr>\n",
       "      <th>12</th>\n",
       "      <td>Brighton</td>\n",
       "      <td>Hotel room</td>\n",
       "      <td>3</td>\n",
       "      <td>4</td>\n",
       "      <td>58</td>\n",
       "      <td>4.60</td>\n",
       "    </tr>\n",
       "    <tr>\n",
       "      <th>13</th>\n",
       "      <td>Brighton</td>\n",
       "      <td>Shared room</td>\n",
       "      <td>4</td>\n",
       "      <td>3</td>\n",
       "      <td>55</td>\n",
       "      <td>4.73</td>\n",
       "    </tr>\n",
       "    <tr>\n",
       "      <th>14</th>\n",
       "      <td>Charlestown</td>\n",
       "      <td>Entire home/apt</td>\n",
       "      <td>1</td>\n",
       "      <td>1</td>\n",
       "      <td>3790</td>\n",
       "      <td>4.88</td>\n",
       "    </tr>\n",
       "    <tr>\n",
       "      <th>15</th>\n",
       "      <td>Charlestown</td>\n",
       "      <td>Private room</td>\n",
       "      <td>2</td>\n",
       "      <td>2</td>\n",
       "      <td>981</td>\n",
       "      <td>4.76</td>\n",
       "    </tr>\n",
       "    <tr>\n",
       "      <th>16</th>\n",
       "      <td>Chinatown</td>\n",
       "      <td>Entire home/apt</td>\n",
       "      <td>1</td>\n",
       "      <td>2</td>\n",
       "      <td>1426</td>\n",
       "      <td>4.68</td>\n",
       "    </tr>\n",
       "    <tr>\n",
       "      <th>17</th>\n",
       "      <td>Chinatown</td>\n",
       "      <td>Private room</td>\n",
       "      <td>2</td>\n",
       "      <td>1</td>\n",
       "      <td>87</td>\n",
       "      <td>4.71</td>\n",
       "    </tr>\n",
       "    <tr>\n",
       "      <th>18</th>\n",
       "      <td>Dorchester</td>\n",
       "      <td>Private room</td>\n",
       "      <td>1</td>\n",
       "      <td>2</td>\n",
       "      <td>11977</td>\n",
       "      <td>4.80</td>\n",
       "    </tr>\n",
       "    <tr>\n",
       "      <th>19</th>\n",
       "      <td>Dorchester</td>\n",
       "      <td>Entire home/apt</td>\n",
       "      <td>2</td>\n",
       "      <td>1</td>\n",
       "      <td>9237</td>\n",
       "      <td>4.81</td>\n",
       "    </tr>\n",
       "    <tr>\n",
       "      <th>20</th>\n",
       "      <td>Dorchester</td>\n",
       "      <td>Shared room</td>\n",
       "      <td>3</td>\n",
       "      <td>3</td>\n",
       "      <td>61</td>\n",
       "      <td>4.76</td>\n",
       "    </tr>\n",
       "    <tr>\n",
       "      <th>21</th>\n",
       "      <td>Downtown</td>\n",
       "      <td>Entire home/apt</td>\n",
       "      <td>1</td>\n",
       "      <td>1</td>\n",
       "      <td>16619</td>\n",
       "      <td>4.69</td>\n",
       "    </tr>\n",
       "    <tr>\n",
       "      <th>22</th>\n",
       "      <td>Downtown</td>\n",
       "      <td>Private room</td>\n",
       "      <td>2</td>\n",
       "      <td>3</td>\n",
       "      <td>1907</td>\n",
       "      <td>4.53</td>\n",
       "    </tr>\n",
       "    <tr>\n",
       "      <th>23</th>\n",
       "      <td>Downtown</td>\n",
       "      <td>Hotel room</td>\n",
       "      <td>3</td>\n",
       "      <td>2</td>\n",
       "      <td>358</td>\n",
       "      <td>4.67</td>\n",
       "    </tr>\n",
       "    <tr>\n",
       "      <th>24</th>\n",
       "      <td>East Boston</td>\n",
       "      <td>Private room</td>\n",
       "      <td>1</td>\n",
       "      <td>1</td>\n",
       "      <td>12536</td>\n",
       "      <td>4.83</td>\n",
       "    </tr>\n",
       "    <tr>\n",
       "      <th>25</th>\n",
       "      <td>East Boston</td>\n",
       "      <td>Entire home/apt</td>\n",
       "      <td>2</td>\n",
       "      <td>2</td>\n",
       "      <td>6554</td>\n",
       "      <td>4.76</td>\n",
       "    </tr>\n",
       "    <tr>\n",
       "      <th>26</th>\n",
       "      <td>Fenway</td>\n",
       "      <td>Entire home/apt</td>\n",
       "      <td>1</td>\n",
       "      <td>2</td>\n",
       "      <td>4358</td>\n",
       "      <td>4.77</td>\n",
       "    </tr>\n",
       "    <tr>\n",
       "      <th>27</th>\n",
       "      <td>Fenway</td>\n",
       "      <td>Private room</td>\n",
       "      <td>2</td>\n",
       "      <td>1</td>\n",
       "      <td>1927</td>\n",
       "      <td>4.92</td>\n",
       "    </tr>\n",
       "    <tr>\n",
       "      <th>28</th>\n",
       "      <td>Hyde Park</td>\n",
       "      <td>Entire home/apt</td>\n",
       "      <td>1</td>\n",
       "      <td>1</td>\n",
       "      <td>1393</td>\n",
       "      <td>4.82</td>\n",
       "    </tr>\n",
       "    <tr>\n",
       "      <th>29</th>\n",
       "      <td>Hyde Park</td>\n",
       "      <td>Private room</td>\n",
       "      <td>2</td>\n",
       "      <td>2</td>\n",
       "      <td>554</td>\n",
       "      <td>4.77</td>\n",
       "    </tr>\n",
       "    <tr>\n",
       "      <th>30</th>\n",
       "      <td>Jamaica Plain</td>\n",
       "      <td>Entire home/apt</td>\n",
       "      <td>1</td>\n",
       "      <td>1</td>\n",
       "      <td>9883</td>\n",
       "      <td>4.87</td>\n",
       "    </tr>\n",
       "    <tr>\n",
       "      <th>31</th>\n",
       "      <td>Jamaica Plain</td>\n",
       "      <td>Private room</td>\n",
       "      <td>2</td>\n",
       "      <td>2</td>\n",
       "      <td>4115</td>\n",
       "      <td>4.85</td>\n",
       "    </tr>\n",
       "    <tr>\n",
       "      <th>32</th>\n",
       "      <td>Longwood Medical Area</td>\n",
       "      <td>Entire home/apt</td>\n",
       "      <td>1</td>\n",
       "      <td>1</td>\n",
       "      <td>26</td>\n",
       "      <td>4.85</td>\n",
       "    </tr>\n",
       "    <tr>\n",
       "      <th>33</th>\n",
       "      <td>Mattapan</td>\n",
       "      <td>Private room</td>\n",
       "      <td>1</td>\n",
       "      <td>1</td>\n",
       "      <td>1172</td>\n",
       "      <td>4.80</td>\n",
       "    </tr>\n",
       "    <tr>\n",
       "      <th>34</th>\n",
       "      <td>Mattapan</td>\n",
       "      <td>Entire home/apt</td>\n",
       "      <td>2</td>\n",
       "      <td>1</td>\n",
       "      <td>770</td>\n",
       "      <td>4.80</td>\n",
       "    </tr>\n",
       "    <tr>\n",
       "      <th>35</th>\n",
       "      <td>Mission Hill</td>\n",
       "      <td>Entire home/apt</td>\n",
       "      <td>1</td>\n",
       "      <td>2</td>\n",
       "      <td>1889</td>\n",
       "      <td>4.77</td>\n",
       "    </tr>\n",
       "    <tr>\n",
       "      <th>36</th>\n",
       "      <td>Mission Hill</td>\n",
       "      <td>Private room</td>\n",
       "      <td>2</td>\n",
       "      <td>1</td>\n",
       "      <td>593</td>\n",
       "      <td>4.83</td>\n",
       "    </tr>\n",
       "    <tr>\n",
       "      <th>37</th>\n",
       "      <td>North End</td>\n",
       "      <td>Entire home/apt</td>\n",
       "      <td>1</td>\n",
       "      <td>2</td>\n",
       "      <td>8902</td>\n",
       "      <td>4.69</td>\n",
       "    </tr>\n",
       "    <tr>\n",
       "      <th>38</th>\n",
       "      <td>North End</td>\n",
       "      <td>Private room</td>\n",
       "      <td>2</td>\n",
       "      <td>1</td>\n",
       "      <td>319</td>\n",
       "      <td>4.93</td>\n",
       "    </tr>\n",
       "    <tr>\n",
       "      <th>39</th>\n",
       "      <td>Roslindale</td>\n",
       "      <td>Entire home/apt</td>\n",
       "      <td>1</td>\n",
       "      <td>2</td>\n",
       "      <td>1460</td>\n",
       "      <td>4.84</td>\n",
       "    </tr>\n",
       "    <tr>\n",
       "      <th>40</th>\n",
       "      <td>Roslindale</td>\n",
       "      <td>Private room</td>\n",
       "      <td>2</td>\n",
       "      <td>1</td>\n",
       "      <td>1213</td>\n",
       "      <td>4.85</td>\n",
       "    </tr>\n",
       "    <tr>\n",
       "      <th>41</th>\n",
       "      <td>Roxbury</td>\n",
       "      <td>Entire home/apt</td>\n",
       "      <td>1</td>\n",
       "      <td>1</td>\n",
       "      <td>8223</td>\n",
       "      <td>4.81</td>\n",
       "    </tr>\n",
       "    <tr>\n",
       "      <th>42</th>\n",
       "      <td>Roxbury</td>\n",
       "      <td>Private room</td>\n",
       "      <td>2</td>\n",
       "      <td>2</td>\n",
       "      <td>5494</td>\n",
       "      <td>4.78</td>\n",
       "    </tr>\n",
       "    <tr>\n",
       "      <th>43</th>\n",
       "      <td>South Boston</td>\n",
       "      <td>Entire home/apt</td>\n",
       "      <td>1</td>\n",
       "      <td>1</td>\n",
       "      <td>6916</td>\n",
       "      <td>4.87</td>\n",
       "    </tr>\n",
       "    <tr>\n",
       "      <th>44</th>\n",
       "      <td>South Boston</td>\n",
       "      <td>Private room</td>\n",
       "      <td>2</td>\n",
       "      <td>2</td>\n",
       "      <td>3299</td>\n",
       "      <td>4.69</td>\n",
       "    </tr>\n",
       "    <tr>\n",
       "      <th>45</th>\n",
       "      <td>South Boston Waterfront</td>\n",
       "      <td>Private room</td>\n",
       "      <td>1</td>\n",
       "      <td>2</td>\n",
       "      <td>273</td>\n",
       "      <td>4.74</td>\n",
       "    </tr>\n",
       "    <tr>\n",
       "      <th>46</th>\n",
       "      <td>South Boston Waterfront</td>\n",
       "      <td>Entire home/apt</td>\n",
       "      <td>2</td>\n",
       "      <td>1</td>\n",
       "      <td>157</td>\n",
       "      <td>4.75</td>\n",
       "    </tr>\n",
       "    <tr>\n",
       "      <th>47</th>\n",
       "      <td>South End</td>\n",
       "      <td>Entire home/apt</td>\n",
       "      <td>1</td>\n",
       "      <td>2</td>\n",
       "      <td>13354</td>\n",
       "      <td>4.72</td>\n",
       "    </tr>\n",
       "    <tr>\n",
       "      <th>48</th>\n",
       "      <td>South End</td>\n",
       "      <td>Private room</td>\n",
       "      <td>2</td>\n",
       "      <td>1</td>\n",
       "      <td>3955</td>\n",
       "      <td>4.74</td>\n",
       "    </tr>\n",
       "    <tr>\n",
       "      <th>49</th>\n",
       "      <td>West End</td>\n",
       "      <td>Entire home/apt</td>\n",
       "      <td>1</td>\n",
       "      <td>2</td>\n",
       "      <td>316</td>\n",
       "      <td>4.85</td>\n",
       "    </tr>\n",
       "    <tr>\n",
       "      <th>50</th>\n",
       "      <td>West End</td>\n",
       "      <td>Private room</td>\n",
       "      <td>2</td>\n",
       "      <td>1</td>\n",
       "      <td>147</td>\n",
       "      <td>4.86</td>\n",
       "    </tr>\n",
       "    <tr>\n",
       "      <th>51</th>\n",
       "      <td>West Roxbury</td>\n",
       "      <td>Entire home/apt</td>\n",
       "      <td>1</td>\n",
       "      <td>1</td>\n",
       "      <td>1373</td>\n",
       "      <td>4.87</td>\n",
       "    </tr>\n",
       "    <tr>\n",
       "      <th>52</th>\n",
       "      <td>West Roxbury</td>\n",
       "      <td>Private room</td>\n",
       "      <td>2</td>\n",
       "      <td>2</td>\n",
       "      <td>999</td>\n",
       "      <td>4.84</td>\n",
       "    </tr>\n",
       "  </tbody>\n",
       "</table>\n",
       "</div>"
      ],
      "text/plain": [
       "              neighbourhood         roomtype  booking_rank  rating_rank  \\\n",
       "0                   Allston     Private room             1            2   \n",
       "1                   Allston  Entire home/apt             2            1   \n",
       "2                  Back Bay  Entire home/apt             1            1   \n",
       "3                  Back Bay     Private room             2            3   \n",
       "4                  Back Bay       Hotel room             3            2   \n",
       "5               Bay Village  Entire home/apt             1            1   \n",
       "6               Bay Village     Private room             2            3   \n",
       "7               Bay Village      Shared room             3            2   \n",
       "8               Beacon Hill  Entire home/apt             1            1   \n",
       "9               Beacon Hill     Private room             2            1   \n",
       "10                 Brighton  Entire home/apt             1            1   \n",
       "11                 Brighton     Private room             2            2   \n",
       "12                 Brighton       Hotel room             3            4   \n",
       "13                 Brighton      Shared room             4            3   \n",
       "14              Charlestown  Entire home/apt             1            1   \n",
       "15              Charlestown     Private room             2            2   \n",
       "16                Chinatown  Entire home/apt             1            2   \n",
       "17                Chinatown     Private room             2            1   \n",
       "18               Dorchester     Private room             1            2   \n",
       "19               Dorchester  Entire home/apt             2            1   \n",
       "20               Dorchester      Shared room             3            3   \n",
       "21                 Downtown  Entire home/apt             1            1   \n",
       "22                 Downtown     Private room             2            3   \n",
       "23                 Downtown       Hotel room             3            2   \n",
       "24              East Boston     Private room             1            1   \n",
       "25              East Boston  Entire home/apt             2            2   \n",
       "26                   Fenway  Entire home/apt             1            2   \n",
       "27                   Fenway     Private room             2            1   \n",
       "28                Hyde Park  Entire home/apt             1            1   \n",
       "29                Hyde Park     Private room             2            2   \n",
       "30            Jamaica Plain  Entire home/apt             1            1   \n",
       "31            Jamaica Plain     Private room             2            2   \n",
       "32    Longwood Medical Area  Entire home/apt             1            1   \n",
       "33                 Mattapan     Private room             1            1   \n",
       "34                 Mattapan  Entire home/apt             2            1   \n",
       "35             Mission Hill  Entire home/apt             1            2   \n",
       "36             Mission Hill     Private room             2            1   \n",
       "37                North End  Entire home/apt             1            2   \n",
       "38                North End     Private room             2            1   \n",
       "39               Roslindale  Entire home/apt             1            2   \n",
       "40               Roslindale     Private room             2            1   \n",
       "41                  Roxbury  Entire home/apt             1            1   \n",
       "42                  Roxbury     Private room             2            2   \n",
       "43             South Boston  Entire home/apt             1            1   \n",
       "44             South Boston     Private room             2            2   \n",
       "45  South Boston Waterfront     Private room             1            2   \n",
       "46  South Boston Waterfront  Entire home/apt             2            1   \n",
       "47                South End  Entire home/apt             1            2   \n",
       "48                South End     Private room             2            1   \n",
       "49                 West End  Entire home/apt             1            2   \n",
       "50                 West End     Private room             2            1   \n",
       "51             West Roxbury  Entire home/apt             1            1   \n",
       "52             West Roxbury     Private room             2            2   \n",
       "\n",
       "    num_bookings avg_rating  \n",
       "0           2909       4.80  \n",
       "1           2799       4.85  \n",
       "2           8514       4.75  \n",
       "3           1001       4.48  \n",
       "4            771       4.63  \n",
       "5           2293       4.73  \n",
       "6            597       4.22  \n",
       "7            547       4.61  \n",
       "8           9079       4.72  \n",
       "9            411       4.72  \n",
       "10          3770       4.85  \n",
       "11          3178       4.81  \n",
       "12            58       4.60  \n",
       "13            55       4.73  \n",
       "14          3790       4.88  \n",
       "15           981       4.76  \n",
       "16          1426       4.68  \n",
       "17            87       4.71  \n",
       "18         11977       4.80  \n",
       "19          9237       4.81  \n",
       "20            61       4.76  \n",
       "21         16619       4.69  \n",
       "22          1907       4.53  \n",
       "23           358       4.67  \n",
       "24         12536       4.83  \n",
       "25          6554       4.76  \n",
       "26          4358       4.77  \n",
       "27          1927       4.92  \n",
       "28          1393       4.82  \n",
       "29           554       4.77  \n",
       "30          9883       4.87  \n",
       "31          4115       4.85  \n",
       "32            26       4.85  \n",
       "33          1172       4.80  \n",
       "34           770       4.80  \n",
       "35          1889       4.77  \n",
       "36           593       4.83  \n",
       "37          8902       4.69  \n",
       "38           319       4.93  \n",
       "39          1460       4.84  \n",
       "40          1213       4.85  \n",
       "41          8223       4.81  \n",
       "42          5494       4.78  \n",
       "43          6916       4.87  \n",
       "44          3299       4.69  \n",
       "45           273       4.74  \n",
       "46           157       4.75  \n",
       "47         13354       4.72  \n",
       "48          3955       4.74  \n",
       "49           316       4.85  \n",
       "50           147       4.86  \n",
       "51          1373       4.87  \n",
       "52           999       4.84  "
      ]
     },
     "execution_count": 267,
     "metadata": {},
     "output_type": "execute_result"
    }
   ],
   "source": [
    "df_q6_results"
   ]
  },
  {
   "cell_type": "code",
   "execution_count": 268,
   "id": "bf00caae-fb88-422e-b065-5bff008c07ca",
   "metadata": {
    "tags": []
   },
   "outputs": [
    {
     "data": {
      "image/png": "[encoded data removed]",
      "text/plain": [
       "<Figure size 1200x800 with 1 Axes>"
      ]
     },
     "metadata": {},
     "output_type": "display_data"
    }
   ],
   "source": [
    "# # Convert 'avg_rating' to float (if not already)\n",
    "# df_q6_resultsn=df_q6_results.copy()\n",
    "# df_q6_resultsn['avg_rating'] = df_q6_results['avg_rating'].astype(float)\n",
    "\n",
    "# # Create a grouped bar plot\n",
    "# plt.figure(figsize=(12, 8))\n",
    "# sns.barplot(x='neighbourhood', y='avg_rating', hue='roomtype', data=df_q6_resultsn, palette='viridis')\n",
    "# plt.title('Average Ratings by Room Type and Neighborhood')\n",
    "# plt.xlabel('Neighborhood')\n",
    "# plt.ylabel('Average Rating')\n",
    "# plt.legend(title='Room Type')\n",
    "# plt.show()"
   ]
  },
  {
   "cell_type": "code",
   "execution_count": null,
   "id": "28310cb1-1029-4855-a2c9-16aa2e134945",
   "metadata": {},
   "outputs": [],
   "source": []
  }
 ],
 "metadata": {
  "kernelspec": {
   "display_name": "Python 3 (ipykernel)",
   "language": "python",
   "name": "python3"
  },
  "language_info": {
   "codemirror_mode": {
    "name": "ipython",
    "version": 3
   },
   "file_extension": ".py",
   "mimetype": "text/x-python",
   "name": "python",
   "nbconvert_exporter": "python",
   "pygments_lexer": "ipython3",
   "version": "3.11.5"
  },
  "toc-showtags": false
 },
 "nbformat": 4,
 "nbformat_minor": 5
}
